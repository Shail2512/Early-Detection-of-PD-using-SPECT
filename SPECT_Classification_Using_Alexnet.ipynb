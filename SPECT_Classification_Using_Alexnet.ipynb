{
 "cells": [
  {
   "cell_type": "code",
   "execution_count": 1,
   "metadata": {},
   "outputs": [
    {
     "name": "stderr",
     "output_type": "stream",
     "text": [
      "Using TensorFlow backend.\n"
     ]
    }
   ],
   "source": [
    "import os\n",
    "import matplotlib.pyplot as plt\n",
    "import pydicom\n",
    "import numpy as np\n",
    "from glob import glob\n",
    "import pandas as pd\n",
    "from random import shuffle\n",
    "import cv2\n",
    "import keras\n",
    "from keras.models import Sequential\n",
    "from keras.layers import Dense, Dropout, Flatten\n",
    "from keras.layers import Conv2D, MaxPool2D\n",
    "from keras.layers. normalization import BatchNormalization\n",
    "from sklearn.model_selection import train_test_split\n",
    "from keras.models import model_from_json"
   ]
  },
  {
   "cell_type": "code",
   "execution_count": 2,
   "metadata": {},
   "outputs": [],
   "source": [
    "label = []\n",
    "train_data = []\n",
    "i = 0\n",
    "Y = pd.read_csv('SPECT_4_04_2020.csv', usecols=['Subject', 'Group'])#reading 2 columns of CSV\n",
    "for f in range(1579):\n",
    "    path = os.path.join(r'E:\\SPECT_Final',str(Y['Subject'][f]),r'Reconstructed_DaTSCAN\\*\\*\\*.dcm')\n",
    "    if(i>1 and str(Y['Subject'][i]) == str(Y['Subject'][i-2])):\n",
    "        fp = glob(path)[2]\n",
    "    elif(i>0 and str(Y['Subject'][i]) == str(Y['Subject'][i-1])):\n",
    "        try:\n",
    "            fp = glob(path)[1]\n",
    "        except(IndexError):\n",
    "            fp = glob(path)[0] \n",
    "    else:\n",
    "        fp = glob(path)[0]\n",
    "    dataset = pydicom.dcmread(fp) #reading DCM image\n",
    "    image = np.array(dataset.pixel_array) #converting into numpy array\n",
    "    image1 = np.zeros(shape = (image.shape))\n",
    "    #normalisation and binarization of the image and taking 40th slice only\n",
    "    for j in range(image.shape[1]):\n",
    "        for k in range(image.shape[2]):\n",
    "            image1[40,j,k] = np.divide(image[40,j,k],np.max(image[40]))\n",
    "            if(image1[40,j,k] > 0.70):\n",
    "                image1[40,j,k] = 1\n",
    "            else:\n",
    "                image1[40,j,k] = 0\n",
    "    #one-hoy encoding\n",
    "    if(Y['Group'][f] == 'PD'):\n",
    "        label = (np.array([1, 0]))\n",
    "    else:\n",
    "        label = (np.array([0, 1]))\n",
    "    train_data.append([np.array(image1[40]), label]) #making train_data"
   ]
  },
  {
   "cell_type": "code",
   "execution_count": 3,
   "metadata": {},
   "outputs": [],
   "source": [
    "shuffle(train_data)"
   ]
  },
  {
   "cell_type": "code",
   "execution_count": 4,
   "metadata": {},
   "outputs": [],
   "source": [
    "trainImages = np.array([i[0] for i in train_data]).reshape(-1, 109, 91, 1)\n",
    "trainLabels = np.array([i[1] for i in train_data])"
   ]
  },
  {
   "cell_type": "code",
   "execution_count": 5,
   "metadata": {},
   "outputs": [],
   "source": [
    "X_train, X_test, y_train, y_test = train_test_split(trainImages, trainLabels, test_size=0.20)"
   ]
  },
  {
   "cell_type": "code",
   "execution_count": 6,
   "metadata": {},
   "outputs": [
    {
     "name": "stdout",
     "output_type": "stream",
     "text": [
      "WARNING:tensorflow:From C:\\Users\\Shail\\Anaconda3\\envs\\p36workshop\\lib\\site-packages\\keras\\backend\\tensorflow_backend.py:74: The name tf.get_default_graph is deprecated. Please use tf.compat.v1.get_default_graph instead.\n",
      "\n",
      "WARNING:tensorflow:From C:\\Users\\Shail\\Anaconda3\\envs\\p36workshop\\lib\\site-packages\\keras\\backend\\tensorflow_backend.py:517: The name tf.placeholder is deprecated. Please use tf.compat.v1.placeholder instead.\n",
      "\n",
      "WARNING:tensorflow:From C:\\Users\\Shail\\Anaconda3\\envs\\p36workshop\\lib\\site-packages\\keras\\backend\\tensorflow_backend.py:4138: The name tf.random_uniform is deprecated. Please use tf.random.uniform instead.\n",
      "\n",
      "WARNING:tensorflow:From C:\\Users\\Shail\\Anaconda3\\envs\\p36workshop\\lib\\site-packages\\keras\\backend\\tensorflow_backend.py:3976: The name tf.nn.max_pool is deprecated. Please use tf.nn.max_pool2d instead.\n",
      "\n"
     ]
    }
   ],
   "source": [
    "#Model of Alexnet\n",
    "model = Sequential()\n",
    "\n",
    "# 1st Convolutional Layer\n",
    "model.add(Conv2D(filters=96, input_shape=(109,91,1), kernel_size=(11,11), strides=(4,4), padding=\"valid\", activation = \"relu\"))\n",
    "\n",
    "# Max Pooling\n",
    "model.add(MaxPool2D(pool_size=(3,3), strides=(2,2), padding=\"valid\"))\n",
    "\n",
    "# 2nd Convolutional Layer\n",
    "model.add(Conv2D(filters=256, kernel_size=(5,5), strides=(1,1), padding=\"same\", activation = \"relu\"))\n",
    "\n",
    "# Max Pooling\n",
    "model.add(MaxPool2D(pool_size=(3,3), strides=(2,2), padding=\"valid\"))\n",
    "\n",
    "# 3rd Convolutional Layer\n",
    "model.add(Conv2D(filters=384, kernel_size=(3,3), strides=(1,1), padding=\"same\", activation = \"relu\"))\n",
    "\n",
    "# 4th Convolutional Layer\n",
    "model.add(Conv2D(filters=384, kernel_size=(3,3), strides=(1,1), padding=\"same\", activation = \"relu\"))\n",
    "\n",
    "# 5th Convolutional Layer\n",
    "model.add(Conv2D(filters=256, kernel_size=(3,3), strides=(1,1), padding=\"same\", activation = \"relu\"))\n",
    "\n",
    "# Max Pooling\n",
    "model.add(MaxPool2D(pool_size=(3,3), strides=(2,2), padding=\"valid\"))\n",
    "\n",
    "# Passing it to a Fully Connected layer\n",
    "model.add(Flatten())\n",
    "# 1st Fully Connected Layer\n",
    "model.add(Dense(units = 9216, activation = \"relu\"))\n",
    "\n",
    "# 2nd Fully Connected Layer\n",
    "model.add(Dense(units = 4096, activation = \"relu\"))\n",
    "\n",
    "# 3rd Fully Connected Layer\n",
    "model.add(Dense(4096, activation = \"relu\"))\n",
    "\n",
    "# Output Layer\n",
    "model.add(Dense(2, activation = \"softmax\")) #As we have two classes"
   ]
  },
  {
   "cell_type": "code",
   "execution_count": 7,
   "metadata": {},
   "outputs": [
    {
     "name": "stdout",
     "output_type": "stream",
     "text": [
      "WARNING:tensorflow:From C:\\Users\\Shail\\Anaconda3\\envs\\p36workshop\\lib\\site-packages\\keras\\optimizers.py:790: The name tf.train.Optimizer is deprecated. Please use tf.compat.v1.train.Optimizer instead.\n",
      "\n",
      "WARNING:tensorflow:From C:\\Users\\Shail\\Anaconda3\\envs\\p36workshop\\lib\\site-packages\\keras\\backend\\tensorflow_backend.py:3376: The name tf.log is deprecated. Please use tf.math.log instead.\n",
      "\n",
      "WARNING:tensorflow:From C:\\Users\\Shail\\Anaconda3\\envs\\p36workshop\\lib\\site-packages\\tensorflow_core\\python\\ops\\nn_impl.py:183: where (from tensorflow.python.ops.array_ops) is deprecated and will be removed in a future version.\n",
      "Instructions for updating:\n",
      "Use tf.where in 2.0, which has the same broadcast rule as np.where\n"
     ]
    }
   ],
   "source": [
    "adam = keras.optimizers.Adam(lr=0.0001)\n",
    "model.compile(loss='binary_crossentropy', optimizer=adam, metrics = ['accuracy'])"
   ]
  },
  {
   "cell_type": "code",
   "execution_count": 8,
   "metadata": {},
   "outputs": [
    {
     "name": "stdout",
     "output_type": "stream",
     "text": [
      "WARNING:tensorflow:From C:\\Users\\Shail\\Anaconda3\\envs\\p36workshop\\lib\\site-packages\\keras\\backend\\tensorflow_backend.py:986: The name tf.assign_add is deprecated. Please use tf.compat.v1.assign_add instead.\n",
      "\n",
      "WARNING:tensorflow:From C:\\Users\\Shail\\Anaconda3\\envs\\p36workshop\\lib\\site-packages\\keras\\backend\\tensorflow_backend.py:973: The name tf.assign is deprecated. Please use tf.compat.v1.assign instead.\n",
      "\n",
      "WARNING:tensorflow:From C:\\Users\\Shail\\Anaconda3\\envs\\p36workshop\\lib\\site-packages\\keras\\backend\\tensorflow_backend.py:2741: The name tf.Session is deprecated. Please use tf.compat.v1.Session instead.\n",
      "\n",
      "Epoch 1/20\n",
      "WARNING:tensorflow:From C:\\Users\\Shail\\Anaconda3\\envs\\p36workshop\\lib\\site-packages\\keras\\backend\\tensorflow_backend.py:174: The name tf.get_default_session is deprecated. Please use tf.compat.v1.get_default_session instead.\n",
      "\n",
      "WARNING:tensorflow:From C:\\Users\\Shail\\Anaconda3\\envs\\p36workshop\\lib\\site-packages\\keras\\backend\\tensorflow_backend.py:181: The name tf.ConfigProto is deprecated. Please use tf.compat.v1.ConfigProto instead.\n",
      "\n",
      "WARNING:tensorflow:From C:\\Users\\Shail\\Anaconda3\\envs\\p36workshop\\lib\\site-packages\\keras\\backend\\tensorflow_backend.py:190: The name tf.global_variables is deprecated. Please use tf.compat.v1.global_variables instead.\n",
      "\n",
      "WARNING:tensorflow:From C:\\Users\\Shail\\Anaconda3\\envs\\p36workshop\\lib\\site-packages\\keras\\backend\\tensorflow_backend.py:199: The name tf.is_variable_initialized is deprecated. Please use tf.compat.v1.is_variable_initialized instead.\n",
      "\n",
      "WARNING:tensorflow:From C:\\Users\\Shail\\Anaconda3\\envs\\p36workshop\\lib\\site-packages\\keras\\backend\\tensorflow_backend.py:206: The name tf.variables_initializer is deprecated. Please use tf.compat.v1.variables_initializer instead.\n",
      "\n",
      "1263/1263 [==============================] - 131s 104ms/step - loss: 0.2403 - acc: 0.9082\n",
      "Epoch 2/20\n",
      "1263/1263 [==============================] - 130s 103ms/step - loss: 0.1277 - acc: 0.9549\n",
      "Epoch 3/20\n",
      "1263/1263 [==============================] - 128s 101ms/step - loss: 0.1053 - acc: 0.9667\n",
      "Epoch 4/20\n",
      "1263/1263 [==============================] - 128s 101ms/step - loss: 0.0875 - acc: 0.9755\n",
      "Epoch 5/20\n",
      "1263/1263 [==============================] - 127s 100ms/step - loss: 0.0849 - acc: 0.9707\n",
      "Epoch 6/20\n",
      "1263/1263 [==============================] - 129s 102ms/step - loss: 0.0754 - acc: 0.9731\n",
      "Epoch 7/20\n",
      "1263/1263 [==============================] - 132s 104ms/step - loss: 0.0438 - acc: 0.9873\n",
      "Epoch 8/20\n",
      "1263/1263 [==============================] - 139s 110ms/step - loss: 0.0370 - acc: 0.9929\n",
      "Epoch 9/20\n",
      "1263/1263 [==============================] - 168s 133ms/step - loss: 0.0409 - acc: 0.9850\n",
      "Epoch 10/20\n",
      "1263/1263 [==============================] - 146s 115ms/step - loss: 0.0448 - acc: 0.9826\n",
      "Epoch 11/20\n",
      "1263/1263 [==============================] - 144s 114ms/step - loss: 0.0256 - acc: 0.9921\n",
      "Epoch 12/20\n",
      "1263/1263 [==============================] - 143s 113ms/step - loss: 0.0130 - acc: 0.9952\n",
      "Epoch 13/20\n",
      "1263/1263 [==============================] - 147s 116ms/step - loss: 0.0458 - acc: 0.9889\n",
      "Epoch 14/20\n",
      "1263/1263 [==============================] - 143s 113ms/step - loss: 0.0197 - acc: 0.9945\n",
      "Epoch 15/20\n",
      "1263/1263 [==============================] - 137s 109ms/step - loss: 0.0101 - acc: 0.9976\n",
      "Epoch 16/20\n",
      "1263/1263 [==============================] - 141s 112ms/step - loss: 0.0117 - acc: 0.9952\n",
      "Epoch 17/20\n",
      "1263/1263 [==============================] - 139s 110ms/step - loss: 0.0025 - acc: 0.9992\n",
      "Epoch 18/20\n",
      "1263/1263 [==============================] - 137s 108ms/step - loss: 2.2529e-05 - acc: 1.0000\n",
      "Epoch 19/20\n",
      "1263/1263 [==============================] - 142s 112ms/step - loss: 1.0749e-05 - acc: 1.0000\n",
      "Epoch 20/20\n",
      "1263/1263 [==============================] - 148s 117ms/step - loss: 7.2491e-06 - acc: 1.0000\n"
     ]
    },
    {
     "data": {
      "text/plain": [
       "<keras.callbacks.History at 0x1490c5805c0>"
      ]
     },
     "execution_count": 8,
     "metadata": {},
     "output_type": "execute_result"
    }
   ],
   "source": [
    "model.fit(X_train, y_train, batch_size = 8, epochs = 20, verbose = 1)"
   ]
  },
  {
   "cell_type": "code",
   "execution_count": 9,
   "metadata": {},
   "outputs": [],
   "source": [
    "loss, acc = model.evaluate(X_test, y_test, verbose = 0)"
   ]
  },
  {
   "cell_type": "code",
   "execution_count": 10,
   "metadata": {},
   "outputs": [
    {
     "name": "stdout",
     "output_type": "stream",
     "text": [
      "0.990506329113924\n"
     ]
    }
   ],
   "source": [
    "print(acc)"
   ]
  },
  {
   "cell_type": "code",
   "execution_count": null,
   "metadata": {},
   "outputs": [],
   "source": []
  }
 ],
 "metadata": {
  "kernelspec": {
   "display_name": "Python 3",
   "language": "python",
   "name": "python3"
  },
  "language_info": {
   "codemirror_mode": {
    "name": "ipython",
    "version": 3
   },
   "file_extension": ".py",
   "mimetype": "text/x-python",
   "name": "python",
   "nbconvert_exporter": "python",
   "pygments_lexer": "ipython3",
   "version": "3.7.1"
  }
 },
 "nbformat": 4,
 "nbformat_minor": 2
}
