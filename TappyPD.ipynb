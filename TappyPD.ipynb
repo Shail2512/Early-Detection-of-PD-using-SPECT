{
  "nbformat": 4,
  "nbformat_minor": 0,
  "metadata": {
    "colab": {
      "provenance": []
    },
    "kernelspec": {
      "name": "python3",
      "display_name": "Python 3"
    }
  },
  "cells": [
    {
      "cell_type": "code",
      "metadata": {
        "id": "D5Ups8vzOpNz"
      },
      "source": [
        "import pandas as pd\n",
        "import numpy as np\n",
        "\n",
        "import matplotlib.pyplot as plt\n",
        "import seaborn as sns\n",
        "\n",
        "import os, gc\n",
        "\n",
        "import warnings; warnings.filterwarnings('ignore')"
      ],
      "execution_count": null,
      "outputs": []
    },
    {
      "cell_type": "code",
      "metadata": {
        "id": "2B-A8U2pPWcj",
        "outputId": "0a2efdf9-940c-4d6c-96c9-aa838be09b5a",
        "colab": {
          "base_uri": "https://localhost:8080/",
          "height": 34
        }
      },
      "source": [
        "user_file_list = os.listdir('/content/drive/My Drive/Archived users/')\n",
        "user_set_v1 = set(map(lambda x: x[5: 15], user_file_list)) # [5: 15] to return just the user IDs\n",
        "\n",
        "\n",
        "tappy_file_list = os.listdir('/content/drive/My Drive/Tappy Data/')\n",
        "user_set_v2 = set(map(lambda x: x[: 10], tappy_file_list)) # [: 10] to return just the user IDs\n",
        "\n",
        "\n",
        "user_set = user_set_v1.intersection(user_set_v2)\n",
        "\n",
        "len(user_set)"
      ],
      "execution_count": null,
      "outputs": [
        {
          "output_type": "execute_result",
          "data": {
            "text/plain": [
              "217"
            ]
          },
          "metadata": {
            "tags": []
          },
          "execution_count": 4
        }
      ]
    },
    {
      "cell_type": "code",
      "metadata": {
        "id": "EHLPt0u8TerY"
      },
      "source": [
        "def read_user_file(file_name):\n",
        "    f = open('/content/drive/My Drive/Archived users/' + file_name)\n",
        "    data = [line.split(': ')[1][: -1] for line in f.readlines()]\n",
        "    f.close()\n",
        "\n",
        "    return data"
      ],
      "execution_count": null,
      "outputs": []
    },
    {
      "cell_type": "code",
      "metadata": {
        "id": "ZuqA9X30Tj--",
        "outputId": "f284d294-bc0d-4c1f-c5ff-d5f052b3162e",
        "colab": {
          "base_uri": "https://localhost:8080/",
          "height": 313
        }
      },
      "source": [
        "files = os.listdir('/content/drive/My Drive/Archived users/')\n",
        "\n",
        "columns = [\n",
        "    'BirthYear', 'Gender', 'Parkinsons', 'Tremors', 'DiagnosisYear',\n",
        "    'Sided', 'UPDRS', 'Impact', 'Levadopa', 'DA', 'MAOB', 'Other'\n",
        "]\n",
        "\n",
        "user_df = pd.DataFrame(columns=columns) # empty Data Frame for now\n",
        "\n",
        "for user_id in user_set:\n",
        "    temp_file_name = 'User_' + user_id + '.txt' # tappy file names have the format of `User_[UserID].txt`\n",
        "    if temp_file_name in files: # check to see if the user ID is in our valid user set\n",
        "        temp_data = read_user_file(temp_file_name)\n",
        "        user_df.loc[user_id] = temp_data # adding data to our DataFrame\n",
        "\n",
        "user_df.head()"
      ],
      "execution_count": null,
      "outputs": [
        {
          "output_type": "execute_result",
          "data": {
            "text/html": [
              "<div>\n",
              "<style scoped>\n",
              "    .dataframe tbody tr th:only-of-type {\n",
              "        vertical-align: middle;\n",
              "    }\n",
              "\n",
              "    .dataframe tbody tr th {\n",
              "        vertical-align: top;\n",
              "    }\n",
              "\n",
              "    .dataframe thead th {\n",
              "        text-align: right;\n",
              "    }\n",
              "</style>\n",
              "<table border=\"1\" class=\"dataframe\">\n",
              "  <thead>\n",
              "    <tr style=\"text-align: right;\">\n",
              "      <th></th>\n",
              "      <th>BirthYear</th>\n",
              "      <th>Gender</th>\n",
              "      <th>Parkinsons</th>\n",
              "      <th>Tremors</th>\n",
              "      <th>DiagnosisYear</th>\n",
              "      <th>Sided</th>\n",
              "      <th>UPDRS</th>\n",
              "      <th>Impact</th>\n",
              "      <th>Levadopa</th>\n",
              "      <th>DA</th>\n",
              "      <th>MAOB</th>\n",
              "      <th>Other</th>\n",
              "    </tr>\n",
              "  </thead>\n",
              "  <tbody>\n",
              "    <tr>\n",
              "      <th>K2VMDST8HC</th>\n",
              "      <td>1954</td>\n",
              "      <td>Male</td>\n",
              "      <td>True</td>\n",
              "      <td>False</td>\n",
              "      <td>2015</td>\n",
              "      <td>Left</td>\n",
              "      <td>Don't know</td>\n",
              "      <td>Mild</td>\n",
              "      <td>False</td>\n",
              "      <td>True</td>\n",
              "      <td>True</td>\n",
              "      <td>False</td>\n",
              "    </tr>\n",
              "    <tr>\n",
              "      <th>T0RR5A7EFV</th>\n",
              "      <td>1943</td>\n",
              "      <td>Male</td>\n",
              "      <td>True</td>\n",
              "      <td>True</td>\n",
              "      <td>2015</td>\n",
              "      <td>Left</td>\n",
              "      <td>Don't know</td>\n",
              "      <td>Medium</td>\n",
              "      <td>True</td>\n",
              "      <td>False</td>\n",
              "      <td>False</td>\n",
              "      <td>False</td>\n",
              "    </tr>\n",
              "    <tr>\n",
              "      <th>QEYNMBJ8T0</th>\n",
              "      <td>1940</td>\n",
              "      <td>Male</td>\n",
              "      <td>True</td>\n",
              "      <td>False</td>\n",
              "      <td>2009</td>\n",
              "      <td>None</td>\n",
              "      <td>Don't know</td>\n",
              "      <td>Severe</td>\n",
              "      <td>True</td>\n",
              "      <td>False</td>\n",
              "      <td>False</td>\n",
              "      <td>False</td>\n",
              "    </tr>\n",
              "    <tr>\n",
              "      <th>B4NL4SV9ZC</th>\n",
              "      <td>1941</td>\n",
              "      <td>Female</td>\n",
              "      <td>True</td>\n",
              "      <td>False</td>\n",
              "      <td>2016</td>\n",
              "      <td>None</td>\n",
              "      <td>Don't know</td>\n",
              "      <td>Severe</td>\n",
              "      <td>True</td>\n",
              "      <td>False</td>\n",
              "      <td>False</td>\n",
              "      <td>False</td>\n",
              "    </tr>\n",
              "    <tr>\n",
              "      <th>ZYWLN4JVLA</th>\n",
              "      <td></td>\n",
              "      <td>Female</td>\n",
              "      <td>True</td>\n",
              "      <td>False</td>\n",
              "      <td></td>\n",
              "      <td>Right</td>\n",
              "      <td>Don't know</td>\n",
              "      <td>Medium</td>\n",
              "      <td>True</td>\n",
              "      <td>True</td>\n",
              "      <td>True</td>\n",
              "      <td>True</td>\n",
              "    </tr>\n",
              "  </tbody>\n",
              "</table>\n",
              "</div>"
            ],
            "text/plain": [
              "           BirthYear  Gender Parkinsons Tremors  ... Levadopa     DA   MAOB  Other\n",
              "K2VMDST8HC      1954    Male       True   False  ...    False   True   True  False\n",
              "T0RR5A7EFV      1943    Male       True    True  ...     True  False  False  False\n",
              "QEYNMBJ8T0      1940    Male       True   False  ...     True  False  False  False\n",
              "B4NL4SV9ZC      1941  Female       True   False  ...     True  False  False  False\n",
              "ZYWLN4JVLA            Female       True   False  ...     True   True   True   True\n",
              "\n",
              "[5 rows x 12 columns]"
            ]
          },
          "metadata": {
            "tags": []
          },
          "execution_count": 6
        }
      ]
    },
    {
      "cell_type": "code",
      "metadata": {
        "id": "jjjoAUjkU2TC"
      },
      "source": [
        "user_df['BirthYear'] = pd.to_numeric(user_df['BirthYear'], errors='coerce')\n",
        "user_df['DiagnosisYear'] = pd.to_numeric(user_df['DiagnosisYear'], errors='coerce')"
      ],
      "execution_count": null,
      "outputs": []
    },
    {
      "cell_type": "code",
      "metadata": {
        "id": "vDNcpcFyVMWD"
      },
      "source": [
        "user_df = user_df.rename(index=str, columns={'Gender': 'Female'}) # renaming `Gender` to `Female`\n",
        "user_df['Female'] = user_df['Female'] == 'Female' # change string data to boolean data\n",
        "user_df['Female'] = user_df['Female'].astype(int) # change boolean data to binary data"
      ],
      "execution_count": null,
      "outputs": []
    },
    {
      "cell_type": "code",
      "metadata": {
        "id": "OKbB2U8sVTE_"
      },
      "source": [
        "str_to_bin_columns = ['Parkinsons', 'Tremors', 'Levadopa', 'DA', 'MAOB', 'Other'] # columns to be converted to binary data\n",
        "\n",
        "for column in str_to_bin_columns:\n",
        "    user_df[column] = user_df[column] == 'True'\n",
        "    user_df[column] = user_df[column].astype(int)"
      ],
      "execution_count": null,
      "outputs": []
    },
    {
      "cell_type": "code",
      "metadata": {
        "id": "g5-YUdMzVaNg",
        "outputId": "7e563bf3-bdc9-4c91-c6b1-fe5b02a3c60b",
        "colab": {
          "base_uri": "https://localhost:8080/",
          "height": 244
        }
      },
      "source": [
        "# prior processing for `Impact` column\n",
        "user_df.loc[\n",
        "    (user_df['Impact'] != 'Medium') &\n",
        "    (user_df['Impact'] != 'Mild') &\n",
        "    (user_df['Impact'] != 'Severe'), 'Impact'] = 'None'\n",
        "\n",
        "to_dummy_column_indices = ['Sided', 'UPDRS', 'Impact'] # columns to be one-hot encoded\n",
        "for column in to_dummy_column_indices:\n",
        "    user_df = pd.concat([\n",
        "        user_df.iloc[:, : user_df.columns.get_loc(column)],\n",
        "        pd.get_dummies(user_df[column], prefix=str(column)),\n",
        "        user_df.iloc[:, user_df.columns.get_loc(column) + 1 :]\n",
        "    ], axis=1)\n",
        "\n",
        "user_df.head()"
      ],
      "execution_count": null,
      "outputs": [
        {
          "output_type": "execute_result",
          "data": {
            "text/html": [
              "<div>\n",
              "<style scoped>\n",
              "    .dataframe tbody tr th:only-of-type {\n",
              "        vertical-align: middle;\n",
              "    }\n",
              "\n",
              "    .dataframe tbody tr th {\n",
              "        vertical-align: top;\n",
              "    }\n",
              "\n",
              "    .dataframe thead th {\n",
              "        text-align: right;\n",
              "    }\n",
              "</style>\n",
              "<table border=\"1\" class=\"dataframe\">\n",
              "  <thead>\n",
              "    <tr style=\"text-align: right;\">\n",
              "      <th></th>\n",
              "      <th>BirthYear</th>\n",
              "      <th>Female</th>\n",
              "      <th>Parkinsons</th>\n",
              "      <th>Tremors</th>\n",
              "      <th>DiagnosisYear</th>\n",
              "      <th>Sided_Left</th>\n",
              "      <th>Sided_None</th>\n",
              "      <th>Sided_Right</th>\n",
              "      <th>UPDRS_1</th>\n",
              "      <th>UPDRS_2</th>\n",
              "      <th>UPDRS_3</th>\n",
              "      <th>UPDRS_4</th>\n",
              "      <th>UPDRS_Don't know</th>\n",
              "      <th>Impact_Medium</th>\n",
              "      <th>Impact_Mild</th>\n",
              "      <th>Impact_None</th>\n",
              "      <th>Impact_Severe</th>\n",
              "      <th>Levadopa</th>\n",
              "      <th>DA</th>\n",
              "      <th>MAOB</th>\n",
              "      <th>Other</th>\n",
              "    </tr>\n",
              "  </thead>\n",
              "  <tbody>\n",
              "    <tr>\n",
              "      <th>K2VMDST8HC</th>\n",
              "      <td>1954.0</td>\n",
              "      <td>0</td>\n",
              "      <td>1</td>\n",
              "      <td>0</td>\n",
              "      <td>2015.0</td>\n",
              "      <td>1</td>\n",
              "      <td>0</td>\n",
              "      <td>0</td>\n",
              "      <td>0</td>\n",
              "      <td>0</td>\n",
              "      <td>0</td>\n",
              "      <td>0</td>\n",
              "      <td>1</td>\n",
              "      <td>0</td>\n",
              "      <td>1</td>\n",
              "      <td>0</td>\n",
              "      <td>0</td>\n",
              "      <td>0</td>\n",
              "      <td>1</td>\n",
              "      <td>1</td>\n",
              "      <td>0</td>\n",
              "    </tr>\n",
              "    <tr>\n",
              "      <th>T0RR5A7EFV</th>\n",
              "      <td>1943.0</td>\n",
              "      <td>0</td>\n",
              "      <td>1</td>\n",
              "      <td>1</td>\n",
              "      <td>2015.0</td>\n",
              "      <td>1</td>\n",
              "      <td>0</td>\n",
              "      <td>0</td>\n",
              "      <td>0</td>\n",
              "      <td>0</td>\n",
              "      <td>0</td>\n",
              "      <td>0</td>\n",
              "      <td>1</td>\n",
              "      <td>1</td>\n",
              "      <td>0</td>\n",
              "      <td>0</td>\n",
              "      <td>0</td>\n",
              "      <td>1</td>\n",
              "      <td>0</td>\n",
              "      <td>0</td>\n",
              "      <td>0</td>\n",
              "    </tr>\n",
              "    <tr>\n",
              "      <th>QEYNMBJ8T0</th>\n",
              "      <td>1940.0</td>\n",
              "      <td>0</td>\n",
              "      <td>1</td>\n",
              "      <td>0</td>\n",
              "      <td>2009.0</td>\n",
              "      <td>0</td>\n",
              "      <td>1</td>\n",
              "      <td>0</td>\n",
              "      <td>0</td>\n",
              "      <td>0</td>\n",
              "      <td>0</td>\n",
              "      <td>0</td>\n",
              "      <td>1</td>\n",
              "      <td>0</td>\n",
              "      <td>0</td>\n",
              "      <td>0</td>\n",
              "      <td>1</td>\n",
              "      <td>1</td>\n",
              "      <td>0</td>\n",
              "      <td>0</td>\n",
              "      <td>0</td>\n",
              "    </tr>\n",
              "    <tr>\n",
              "      <th>B4NL4SV9ZC</th>\n",
              "      <td>1941.0</td>\n",
              "      <td>1</td>\n",
              "      <td>1</td>\n",
              "      <td>0</td>\n",
              "      <td>2016.0</td>\n",
              "      <td>0</td>\n",
              "      <td>1</td>\n",
              "      <td>0</td>\n",
              "      <td>0</td>\n",
              "      <td>0</td>\n",
              "      <td>0</td>\n",
              "      <td>0</td>\n",
              "      <td>1</td>\n",
              "      <td>0</td>\n",
              "      <td>0</td>\n",
              "      <td>0</td>\n",
              "      <td>1</td>\n",
              "      <td>1</td>\n",
              "      <td>0</td>\n",
              "      <td>0</td>\n",
              "      <td>0</td>\n",
              "    </tr>\n",
              "    <tr>\n",
              "      <th>ZYWLN4JVLA</th>\n",
              "      <td>NaN</td>\n",
              "      <td>1</td>\n",
              "      <td>1</td>\n",
              "      <td>0</td>\n",
              "      <td>NaN</td>\n",
              "      <td>0</td>\n",
              "      <td>0</td>\n",
              "      <td>1</td>\n",
              "      <td>0</td>\n",
              "      <td>0</td>\n",
              "      <td>0</td>\n",
              "      <td>0</td>\n",
              "      <td>1</td>\n",
              "      <td>1</td>\n",
              "      <td>0</td>\n",
              "      <td>0</td>\n",
              "      <td>0</td>\n",
              "      <td>1</td>\n",
              "      <td>1</td>\n",
              "      <td>1</td>\n",
              "      <td>1</td>\n",
              "    </tr>\n",
              "  </tbody>\n",
              "</table>\n",
              "</div>"
            ],
            "text/plain": [
              "            BirthYear  Female  Parkinsons  Tremors  ...  Levadopa  DA  MAOB  Other\n",
              "K2VMDST8HC     1954.0       0           1        0  ...         0   1     1      0\n",
              "T0RR5A7EFV     1943.0       0           1        1  ...         1   0     0      0\n",
              "QEYNMBJ8T0     1940.0       0           1        0  ...         1   0     0      0\n",
              "B4NL4SV9ZC     1941.0       1           1        0  ...         1   0     0      0\n",
              "ZYWLN4JVLA        NaN       1           1        0  ...         1   1     1      1\n",
              "\n",
              "[5 rows x 21 columns]"
            ]
          },
          "metadata": {
            "tags": []
          },
          "execution_count": 10
        }
      ]
    },
    {
      "cell_type": "code",
      "metadata": {
        "id": "rUEJfXAtVe8Z",
        "outputId": "d34e1b37-7b9f-463b-9c26-96808ba9be93",
        "colab": {
          "base_uri": "https://localhost:8080/",
          "height": 351
        }
      },
      "source": [
        "missing_data = user_df.isnull().sum()\n",
        "\n",
        "g = sns.barplot(missing_data.index, missing_data)\n",
        "g.set_xticklabels(labels=missing_data.index, rotation=90)\n",
        "\n",
        "plt.show()"
      ],
      "execution_count": null,
      "outputs": [
        {
          "output_type": "display_data",
          "data": {
            "image/png": "[encoded data removed]",
            "text/plain": [
              "<Figure size 432x288 with 1 Axes>"
            ]
          },
          "metadata": {
            "tags": []
          }
        }
      ]
    },
    {
      "cell_type": "code",
      "metadata": {
        "id": "DbK5aEG5VjJ6",
        "outputId": "c241bb1f-5ff1-441d-a028-72af57dc65fb",
        "colab": {
          "base_uri": "https://localhost:8080/",
          "height": 626
        }
      },
      "source": [
        "f, ax = plt.subplots(2, 2, figsize=(20, 10))\n",
        "\n",
        "sns.distplot(\n",
        "    user_df.loc[user_df['Parkinsons'] == 0, 'BirthYear'].dropna(axis=0),\n",
        "    kde_kws = {'label': \"Without Parkinson's\"},\n",
        "    ax = ax[0][0]\n",
        ")\n",
        "sns.distplot(\n",
        "    user_df.loc[user_df['Parkinsons'] == 1, 'BirthYear'].dropna(axis=0),\n",
        "    kde_kws = {'label': \"With Parkinson's\"},\n",
        "    ax = ax[0][1]\n",
        ")\n",
        "\n",
        "sns.countplot(x='Female', hue='Parkinsons', data=user_df, ax=ax[1][0])\n",
        "sns.countplot(x='Tremors', hue='Parkinsons', data=user_df, ax=ax[1][1])\n",
        "\n",
        "plt.show()"
      ],
      "execution_count": null,
      "outputs": [
        {
          "output_type": "display_data",
          "data": {
            "image/png": "[encoded data removed]",
            "text/plain": [
              "<Figure size 1440x720 with 4 Axes>"
            ]
          },
          "metadata": {
            "tags": []
          }
        }
      ]
    },
    {
      "cell_type": "code",
      "metadata": {
        "id": "Q17o4SwBVrRT",
        "outputId": "d0fc1eae-e77d-4b29-a2c3-e595d12bc6c9",
        "colab": {
          "base_uri": "https://localhost:8080/",
          "height": 121
        }
      },
      "source": [
        "user_df.columns"
      ],
      "execution_count": null,
      "outputs": [
        {
          "output_type": "execute_result",
          "data": {
            "text/plain": [
              "Index(['BirthYear', 'Female', 'Parkinsons', 'Tremors', 'DiagnosisYear',\n",
              "       'Sided_Left', 'Sided_None', 'Sided_Right', 'UPDRS_1', 'UPDRS_2',\n",
              "       'UPDRS_3', 'UPDRS_4', 'UPDRS_Don't know', 'Impact_Medium',\n",
              "       'Impact_Mild', 'Impact_None', 'Impact_Severe', 'Levadopa', 'DA', 'MAOB',\n",
              "       'Other'],\n",
              "      dtype='object')"
            ]
          },
          "metadata": {
            "tags": []
          },
          "execution_count": 13
        }
      ]
    },
    {
      "cell_type": "code",
      "metadata": {
        "id": "-VN78OdKVyp0",
        "outputId": "6e7f8060-663d-46a7-ebed-5a0c4ea5e195",
        "colab": {
          "base_uri": "https://localhost:8080/",
          "height": 612
        }
      },
      "source": [
        "f, ax = plt.subplots(2, 2, figsize=(20, 10))\n",
        "\n",
        "sns.barplot(\n",
        "    ['Sided_Left', 'Sided_None', 'Sided_Right'],\n",
        "    user_df[['Sided_Left', 'Sided_None', 'Sided_Right']].sum(),\n",
        "    ax=ax[0][0]\n",
        ")\n",
        "sns.barplot(\n",
        "    ['UPDRS_1', 'UPDRS_2', 'UPDRS_3', 'UPDRS_4', \"UPDRS_Don't know\"],\n",
        "    user_df[['UPDRS_1', 'UPDRS_2', 'UPDRS_3', 'UPDRS_4', \"UPDRS_Don't know\"]].sum(),\n",
        "    ax=ax[0][1]\n",
        ")\n",
        "sns.barplot(\n",
        "    ['Impact_Medium', 'Impact_Mild', 'Impact_None', 'Impact_Severe'],\n",
        "    user_df[['Impact_Medium', 'Impact_Mild', 'Impact_None', 'Impact_Severe']].sum(),\n",
        "    ax=ax[1][0]\n",
        ")\n",
        "ax[1][1].axis('off')\n",
        "\n",
        "plt.show()"
      ],
      "execution_count": null,
      "outputs": [
        {
          "output_type": "display_data",
          "data": {
            "image/png": "[encoded data removed]",
            "text/plain": [
              "<Figure size 1440x720 with 4 Axes>"
            ]
          },
          "metadata": {
            "tags": []
          }
        }
      ]
    },
    {
      "cell_type": "code",
      "metadata": {
        "id": "ht1XHapmV1Ws"
      },
      "source": [
        "file_name = '0EA27ICBLF_1607.txt' # an arbitrary file to explore"
      ],
      "execution_count": null,
      "outputs": []
    },
    {
      "cell_type": "code",
      "metadata": {
        "id": "m5HS9SGUV_OX",
        "outputId": "c7c1a2f0-e1d8-4216-c469-92d85dfb7385",
        "colab": {
          "base_uri": "https://localhost:8080/",
          "height": 206
        }
      },
      "source": [
        "df = pd.read_csv(\n",
        "    '/content/drive/My Drive/Tappy Data/' + file_name,\n",
        "    delimiter = '\\t',\n",
        "    index_col = False,\n",
        "    names = ['UserKey', 'Date', 'Timestamp', 'Hand', 'Hold time', 'Direction', 'Latency time', 'Flight time']\n",
        ")\n",
        "\n",
        "df = df.drop('UserKey', axis=1)\n",
        "\n",
        "df.head()"
      ],
      "execution_count": null,
      "outputs": [
        {
          "output_type": "execute_result",
          "data": {
            "text/html": [
              "<div>\n",
              "<style scoped>\n",
              "    .dataframe tbody tr th:only-of-type {\n",
              "        vertical-align: middle;\n",
              "    }\n",
              "\n",
              "    .dataframe tbody tr th {\n",
              "        vertical-align: top;\n",
              "    }\n",
              "\n",
              "    .dataframe thead th {\n",
              "        text-align: right;\n",
              "    }\n",
              "</style>\n",
              "<table border=\"1\" class=\"dataframe\">\n",
              "  <thead>\n",
              "    <tr style=\"text-align: right;\">\n",
              "      <th></th>\n",
              "      <th>Date</th>\n",
              "      <th>Timestamp</th>\n",
              "      <th>Hand</th>\n",
              "      <th>Hold time</th>\n",
              "      <th>Direction</th>\n",
              "      <th>Latency time</th>\n",
              "      <th>Flight time</th>\n",
              "    </tr>\n",
              "  </thead>\n",
              "  <tbody>\n",
              "    <tr>\n",
              "      <th>0</th>\n",
              "      <td>160722</td>\n",
              "      <td>18:41:04.336</td>\n",
              "      <td>L</td>\n",
              "      <td>0101.6</td>\n",
              "      <td>LL</td>\n",
              "      <td>0234.4</td>\n",
              "      <td>0156.3</td>\n",
              "    </tr>\n",
              "    <tr>\n",
              "      <th>1</th>\n",
              "      <td>160722</td>\n",
              "      <td>18:42:14.070</td>\n",
              "      <td>L</td>\n",
              "      <td>0085.9</td>\n",
              "      <td>LL</td>\n",
              "      <td>0437.5</td>\n",
              "      <td>0359.4</td>\n",
              "    </tr>\n",
              "    <tr>\n",
              "      <th>2</th>\n",
              "      <td>160722</td>\n",
              "      <td>18:42:14.273</td>\n",
              "      <td>L</td>\n",
              "      <td>0078.1</td>\n",
              "      <td>LL</td>\n",
              "      <td>0210.9</td>\n",
              "      <td>0125.0</td>\n",
              "    </tr>\n",
              "    <tr>\n",
              "      <th>3</th>\n",
              "      <td>160722</td>\n",
              "      <td>18:42:14.617</td>\n",
              "      <td>L</td>\n",
              "      <td>0062.5</td>\n",
              "      <td>LL</td>\n",
              "      <td>0359.4</td>\n",
              "      <td>0281.3</td>\n",
              "    </tr>\n",
              "    <tr>\n",
              "      <th>4</th>\n",
              "      <td>160722</td>\n",
              "      <td>18:42:15.586</td>\n",
              "      <td>S</td>\n",
              "      <td>0125.0</td>\n",
              "      <td>LS</td>\n",
              "      <td>0187.5</td>\n",
              "      <td>0093.8</td>\n",
              "    </tr>\n",
              "  </tbody>\n",
              "</table>\n",
              "</div>"
            ],
            "text/plain": [
              "     Date     Timestamp Hand Hold time Direction Latency time Flight time\n",
              "0  160722  18:41:04.336    L    0101.6        LL       0234.4      0156.3\n",
              "1  160722  18:42:14.070    L    0085.9        LL       0437.5      0359.4\n",
              "2  160722  18:42:14.273    L    0078.1        LL       0210.9      0125.0\n",
              "3  160722  18:42:14.617    L    0062.5        LL       0359.4      0281.3\n",
              "4  160722  18:42:15.586    S    0125.0        LS       0187.5      0093.8"
            ]
          },
          "metadata": {
            "tags": []
          },
          "execution_count": 16
        }
      ]
    },
    {
      "cell_type": "code",
      "metadata": {
        "id": "8QaR9l_sWQS_"
      },
      "source": [
        "df['Date'] = pd.to_datetime(df['Date'], errors='coerce', format='%y%M%d').dt.date\n",
        "# converting time data to numeric\n",
        "for column in ['Hold time', 'Latency time', 'Flight time']:\n",
        "    df[column] = pd.to_numeric(df[column], errors='coerce')\n",
        "\n",
        "df = df.dropna(axis=0)"
      ],
      "execution_count": null,
      "outputs": []
    },
    {
      "cell_type": "code",
      "metadata": {
        "id": "FLtyPRdlWVJ4"
      },
      "source": [
        "# cleaning data in Hand\n",
        "df = df[\n",
        "    (df['Hand'] == 'L') |\n",
        "    (df['Hand'] == 'R') |\n",
        "    (df['Hand'] == 'S')\n",
        "]\n",
        "\n",
        "# cleaning data in Direction\n",
        "df = df[\n",
        "    (df['Direction'] == 'LL') |\n",
        "    (df['Direction'] == 'LR') |\n",
        "    (df['Direction'] == 'LS') |\n",
        "    (df['Direction'] == 'RL') |\n",
        "    (df['Direction'] == 'RR') |\n",
        "    (df['Direction'] == 'RS') |\n",
        "    (df['Direction'] == 'SL') |\n",
        "    (df['Direction'] == 'SR') |\n",
        "    (df['Direction'] == 'SS')\n",
        "]"
      ],
      "execution_count": null,
      "outputs": []
    },
    {
      "cell_type": "code",
      "metadata": {
        "id": "7cUhK61oWaw9",
        "outputId": "b4e24316-220f-43e7-dbee-f57fee0b04b7",
        "colab": {
          "base_uri": "https://localhost:8080/",
          "height": 363
        }
      },
      "source": [
        "direction_group_df = df.groupby('Direction').mean()\n",
        "direction_group_df"
      ],
      "execution_count": null,
      "outputs": [
        {
          "output_type": "execute_result",
          "data": {
            "text/html": [
              "<div>\n",
              "<style scoped>\n",
              "    .dataframe tbody tr th:only-of-type {\n",
              "        vertical-align: middle;\n",
              "    }\n",
              "\n",
              "    .dataframe tbody tr th {\n",
              "        vertical-align: top;\n",
              "    }\n",
              "\n",
              "    .dataframe thead th {\n",
              "        text-align: right;\n",
              "    }\n",
              "</style>\n",
              "<table border=\"1\" class=\"dataframe\">\n",
              "  <thead>\n",
              "    <tr style=\"text-align: right;\">\n",
              "      <th></th>\n",
              "      <th>Hold time</th>\n",
              "      <th>Latency time</th>\n",
              "      <th>Flight time</th>\n",
              "    </tr>\n",
              "    <tr>\n",
              "      <th>Direction</th>\n",
              "      <th></th>\n",
              "      <th></th>\n",
              "      <th></th>\n",
              "    </tr>\n",
              "  </thead>\n",
              "  <tbody>\n",
              "    <tr>\n",
              "      <th>LL</th>\n",
              "      <td>81.897585</td>\n",
              "      <td>263.693681</td>\n",
              "      <td>184.458003</td>\n",
              "    </tr>\n",
              "    <tr>\n",
              "      <th>LR</th>\n",
              "      <td>81.563368</td>\n",
              "      <td>277.280266</td>\n",
              "      <td>210.061092</td>\n",
              "    </tr>\n",
              "    <tr>\n",
              "      <th>LS</th>\n",
              "      <td>113.614473</td>\n",
              "      <td>204.752122</td>\n",
              "      <td>121.226882</td>\n",
              "    </tr>\n",
              "    <tr>\n",
              "      <th>RL</th>\n",
              "      <td>74.481909</td>\n",
              "      <td>417.072856</td>\n",
              "      <td>340.956823</td>\n",
              "    </tr>\n",
              "    <tr>\n",
              "      <th>RR</th>\n",
              "      <td>79.109145</td>\n",
              "      <td>275.253268</td>\n",
              "      <td>205.742761</td>\n",
              "    </tr>\n",
              "    <tr>\n",
              "      <th>RS</th>\n",
              "      <td>115.448340</td>\n",
              "      <td>233.403863</td>\n",
              "      <td>150.378538</td>\n",
              "    </tr>\n",
              "    <tr>\n",
              "      <th>SL</th>\n",
              "      <td>69.692995</td>\n",
              "      <td>346.412846</td>\n",
              "      <td>233.743770</td>\n",
              "    </tr>\n",
              "    <tr>\n",
              "      <th>SR</th>\n",
              "      <td>75.492281</td>\n",
              "      <td>345.973700</td>\n",
              "      <td>235.207990</td>\n",
              "    </tr>\n",
              "    <tr>\n",
              "      <th>SS</th>\n",
              "      <td>84.336522</td>\n",
              "      <td>141.706087</td>\n",
              "      <td>73.095217</td>\n",
              "    </tr>\n",
              "  </tbody>\n",
              "</table>\n",
              "</div>"
            ],
            "text/plain": [
              "            Hold time  Latency time  Flight time\n",
              "Direction                                       \n",
              "LL          81.897585    263.693681   184.458003\n",
              "LR          81.563368    277.280266   210.061092\n",
              "LS         113.614473    204.752122   121.226882\n",
              "RL          74.481909    417.072856   340.956823\n",
              "RR          79.109145    275.253268   205.742761\n",
              "RS         115.448340    233.403863   150.378538\n",
              "SL          69.692995    346.412846   233.743770\n",
              "SR          75.492281    345.973700   235.207990\n",
              "SS          84.336522    141.706087    73.095217"
            ]
          },
          "metadata": {
            "tags": []
          },
          "execution_count": 19
        }
      ]
    },
    {
      "cell_type": "code",
      "metadata": {
        "id": "zqNiqe_SWfvr"
      },
      "source": [
        "def read_tappy(file_name):\n",
        "    df = pd.read_csv(\n",
        "        '/content/drive/My Drive/Tappy Data/' + file_name,\n",
        "        delimiter = '\\t',\n",
        "        index_col = False,\n",
        "        names = ['UserKey', 'Date', 'Timestamp', 'Hand', 'Hold time', 'Direction', 'Latency time', 'Flight time']\n",
        "    )\n",
        "\n",
        "    df = df.drop('UserKey', axis=1)\n",
        "\n",
        "    df['Date'] = pd.to_datetime(df['Date'], errors='coerce', format='%y%M%d').dt.date\n",
        "\n",
        "    # converting time data to numeric\n",
        "    #print(df[df['Hold time'] == '0105.0EA27ICBLF']) # for 0EA27ICBLF_1607.txt\n",
        "    for column in ['Hold time', 'Latency time', 'Flight time']:\n",
        "        df[column] = pd.to_numeric(df[column], errors='coerce')\n",
        "    df = df.dropna(axis=0)\n",
        "\n",
        "    # cleaning data in Hand\n",
        "    df = df[\n",
        "        (df['Hand'] == 'L') |\n",
        "        (df['Hand'] == 'R') |\n",
        "        (df['Hand'] == 'S')\n",
        "    ]\n",
        "\n",
        "    # cleaning data in Direction\n",
        "    df = df[\n",
        "        (df['Direction'] == 'LL') |\n",
        "        (df['Direction'] == 'LR') |\n",
        "        (df['Direction'] == 'LS') |\n",
        "        (df['Direction'] == 'RL') |\n",
        "        (df['Direction'] == 'RR') |\n",
        "        (df['Direction'] == 'RS') |\n",
        "        (df['Direction'] == 'SL') |\n",
        "        (df['Direction'] == 'SR') |\n",
        "        (df['Direction'] == 'SS')\n",
        "    ]\n",
        "\n",
        "    direction_group_df = df.groupby('Direction').mean()\n",
        "    del df; gc.collect()\n",
        "    direction_group_df = direction_group_df.reindex(['LL', 'LR', 'LS', 'RL', 'RR', 'RS', 'SL', 'SR', 'SS'])\n",
        "    direction_group_df = direction_group_df.sort_index() # to ensure correct order of data\n",
        "\n",
        "    return direction_group_df.values.flatten() # returning a numppy array"
      ],
      "execution_count": null,
      "outputs": []
    },
    {
      "cell_type": "code",
      "metadata": {
        "id": "lBgpGkP0WrhT",
        "outputId": "f3ee52d8-51a7-46d8-e50e-001b438b4e77",
        "colab": {
          "base_uri": "https://localhost:8080/",
          "height": 139
        }
      },
      "source": [
        "file_name = '0EA27ICBLF_1607.txt' # an arbitrary file to explore\n",
        "tappy_data = read_tappy(file_name)\n",
        "\n",
        "tappy_data # which corresponds to the DataFrame above in order"
      ],
      "execution_count": null,
      "outputs": [
        {
          "output_type": "execute_result",
          "data": {
            "text/plain": [
              "array([ 81.89758471, 263.69368078, 184.45800252,  81.56336806,\n",
              "       277.2802662 , 210.06109182, 113.61447334, 204.75212158,\n",
              "       121.22688219,  74.48190853, 417.07285573, 340.95682257,\n",
              "        79.10914471, 275.25326842, 205.7427613 , 115.44834027,\n",
              "       233.40386281, 150.37853808,  69.69299483, 346.41284554,\n",
              "       233.74376999,  75.49228061, 345.97369989, 235.20799025,\n",
              "        84.33652174, 141.70608696,  73.09521739])"
            ]
          },
          "metadata": {
            "tags": []
          },
          "execution_count": 21
        }
      ]
    },
    {
      "cell_type": "code",
      "metadata": {
        "id": "dEpWLGpFXHPR"
      },
      "source": [
        "def process_user(user_id, filenames):\n",
        "    running_user_data = np.array([])\n",
        "\n",
        "    for filename in filenames:\n",
        "        if user_id in filename:\n",
        "            running_user_data = np.append(running_user_data, read_tappy(filename))\n",
        "\n",
        "    running_user_data = np.reshape(running_user_data, (-1, 27))\n",
        "    return np.nanmean(running_user_data, axis=0) # ignoring NaNs while calculating the mean"
      ],
      "execution_count": null,
      "outputs": []
    },
    {
      "cell_type": "code",
      "metadata": {
        "id": "WpIaR4HDXZYp",
        "outputId": "068ff38d-d822-4958-f04b-a8f20595104f",
        "colab": {
          "base_uri": "https://localhost:8080/",
          "height": 139
        }
      },
      "source": [
        "filenames = os.listdir('/content/drive/My Drive/Tappy Data/')\n",
        "\n",
        "user_id = '0EA27ICBLF'\n",
        "process_user(user_id, filenames)"
      ],
      "execution_count": null,
      "outputs": [
        {
          "output_type": "execute_result",
          "data": {
            "text/plain": [
              "array([ 83.23554563, 263.16479813, 182.42601437,  83.45694088,\n",
              "       278.91128036, 210.43491235, 115.3738097 , 210.23147813,\n",
              "       125.82658315,  75.55503123, 415.84500069, 337.78674056,\n",
              "        79.97841961, 268.74304632, 198.41750457, 117.11041434,\n",
              "       240.05455891, 156.57543596,  70.34764932, 345.50649477,\n",
              "       230.85896203,  76.41035083, 338.3596131 , 226.28202144,\n",
              "        85.38042303, 158.02331375,  84.87598707])"
            ]
          },
          "metadata": {
            "tags": []
          },
          "execution_count": 23
        }
      ]
    },
    {
      "cell_type": "code",
      "metadata": {
        "id": "yE8l4LOqZJ8K",
        "outputId": "bc0b6314-0537-48ec-c04f-73477739d735",
        "colab": {
          "base_uri": "https://localhost:8080/",
          "height": 244
        }
      },
      "source": [
        "column_names = [first_hand + second_hand + '_' + time for first_hand in ['L', 'R', 'S'] for second_hand in ['L', 'R', 'S'] for time in ['Hold time', 'Latency time', 'Flight time']]\n",
        "\n",
        "user_tappy_df = pd.DataFrame(columns=column_names)\n",
        "\n",
        "for user_id in user_df.index:\n",
        "    user_tappy_data = process_user(str(user_id), filenames)\n",
        "    user_tappy_df.loc[user_id] = user_tappy_data\n",
        "\n",
        "# some preliminary data cleaning\n",
        "user_tappy_df = user_tappy_df.fillna(0)\n",
        "user_tappy_df[user_tappy_df < 0] = 0\n",
        "\n",
        "user_tappy_df.head()"
      ],
      "execution_count": null,
      "outputs": [
        {
          "output_type": "execute_result",
          "data": {
            "text/html": [
              "<div>\n",
              "<style scoped>\n",
              "    .dataframe tbody tr th:only-of-type {\n",
              "        vertical-align: middle;\n",
              "    }\n",
              "\n",
              "    .dataframe tbody tr th {\n",
              "        vertical-align: top;\n",
              "    }\n",
              "\n",
              "    .dataframe thead th {\n",
              "        text-align: right;\n",
              "    }\n",
              "</style>\n",
              "<table border=\"1\" class=\"dataframe\">\n",
              "  <thead>\n",
              "    <tr style=\"text-align: right;\">\n",
              "      <th></th>\n",
              "      <th>LL_Hold time</th>\n",
              "      <th>LL_Latency time</th>\n",
              "      <th>LL_Flight time</th>\n",
              "      <th>LR_Hold time</th>\n",
              "      <th>LR_Latency time</th>\n",
              "      <th>LR_Flight time</th>\n",
              "      <th>LS_Hold time</th>\n",
              "      <th>LS_Latency time</th>\n",
              "      <th>LS_Flight time</th>\n",
              "      <th>RL_Hold time</th>\n",
              "      <th>RL_Latency time</th>\n",
              "      <th>RL_Flight time</th>\n",
              "      <th>RR_Hold time</th>\n",
              "      <th>RR_Latency time</th>\n",
              "      <th>RR_Flight time</th>\n",
              "      <th>RS_Hold time</th>\n",
              "      <th>RS_Latency time</th>\n",
              "      <th>RS_Flight time</th>\n",
              "      <th>SL_Hold time</th>\n",
              "      <th>SL_Latency time</th>\n",
              "      <th>SL_Flight time</th>\n",
              "      <th>SR_Hold time</th>\n",
              "      <th>SR_Latency time</th>\n",
              "      <th>SR_Flight time</th>\n",
              "      <th>SS_Hold time</th>\n",
              "      <th>SS_Latency time</th>\n",
              "      <th>SS_Flight time</th>\n",
              "    </tr>\n",
              "  </thead>\n",
              "  <tbody>\n",
              "    <tr>\n",
              "      <th>K2VMDST8HC</th>\n",
              "      <td>143.439611</td>\n",
              "      <td>313.451840</td>\n",
              "      <td>277.668629</td>\n",
              "      <td>123.965076</td>\n",
              "      <td>286.797734</td>\n",
              "      <td>174.416430</td>\n",
              "      <td>105.009551</td>\n",
              "      <td>374.256387</td>\n",
              "      <td>212.460390</td>\n",
              "      <td>148.025368</td>\n",
              "      <td>336.717110</td>\n",
              "      <td>250.886146</td>\n",
              "      <td>112.787302</td>\n",
              "      <td>314.351468</td>\n",
              "      <td>213.541242</td>\n",
              "      <td>101.007475</td>\n",
              "      <td>432.341905</td>\n",
              "      <td>321.902255</td>\n",
              "      <td>139.788613</td>\n",
              "      <td>320.436841</td>\n",
              "      <td>292.319217</td>\n",
              "      <td>119.475771</td>\n",
              "      <td>354.072251</td>\n",
              "      <td>286.984588</td>\n",
              "      <td>107.683102</td>\n",
              "      <td>315.763556</td>\n",
              "      <td>213.104825</td>\n",
              "    </tr>\n",
              "    <tr>\n",
              "      <th>T0RR5A7EFV</th>\n",
              "      <td>0.000000</td>\n",
              "      <td>0.000000</td>\n",
              "      <td>0.000000</td>\n",
              "      <td>0.000000</td>\n",
              "      <td>0.000000</td>\n",
              "      <td>0.000000</td>\n",
              "      <td>0.000000</td>\n",
              "      <td>0.000000</td>\n",
              "      <td>0.000000</td>\n",
              "      <td>156.266667</td>\n",
              "      <td>322.933333</td>\n",
              "      <td>177.100000</td>\n",
              "      <td>115.640000</td>\n",
              "      <td>274.220000</td>\n",
              "      <td>151.560000</td>\n",
              "      <td>170.183333</td>\n",
              "      <td>393.533333</td>\n",
              "      <td>283.050000</td>\n",
              "      <td>0.000000</td>\n",
              "      <td>0.000000</td>\n",
              "      <td>0.000000</td>\n",
              "      <td>0.000000</td>\n",
              "      <td>0.000000</td>\n",
              "      <td>0.000000</td>\n",
              "      <td>144.525000</td>\n",
              "      <td>243.150000</td>\n",
              "      <td>109.375000</td>\n",
              "    </tr>\n",
              "    <tr>\n",
              "      <th>QEYNMBJ8T0</th>\n",
              "      <td>104.503154</td>\n",
              "      <td>325.654494</td>\n",
              "      <td>236.717253</td>\n",
              "      <td>93.983030</td>\n",
              "      <td>334.744580</td>\n",
              "      <td>267.112356</td>\n",
              "      <td>106.367529</td>\n",
              "      <td>300.448899</td>\n",
              "      <td>209.942653</td>\n",
              "      <td>102.942208</td>\n",
              "      <td>321.620214</td>\n",
              "      <td>249.948059</td>\n",
              "      <td>97.926893</td>\n",
              "      <td>317.148216</td>\n",
              "      <td>232.030716</td>\n",
              "      <td>96.981944</td>\n",
              "      <td>294.615278</td>\n",
              "      <td>207.971875</td>\n",
              "      <td>110.069118</td>\n",
              "      <td>274.275980</td>\n",
              "      <td>202.524755</td>\n",
              "      <td>88.991572</td>\n",
              "      <td>341.217236</td>\n",
              "      <td>309.614791</td>\n",
              "      <td>109.605588</td>\n",
              "      <td>293.606765</td>\n",
              "      <td>185.181176</td>\n",
              "    </tr>\n",
              "    <tr>\n",
              "      <th>B4NL4SV9ZC</th>\n",
              "      <td>146.577017</td>\n",
              "      <td>509.350021</td>\n",
              "      <td>369.663728</td>\n",
              "      <td>165.152194</td>\n",
              "      <td>579.171524</td>\n",
              "      <td>438.828725</td>\n",
              "      <td>178.644755</td>\n",
              "      <td>602.470280</td>\n",
              "      <td>465.012587</td>\n",
              "      <td>168.510077</td>\n",
              "      <td>556.336927</td>\n",
              "      <td>374.019332</td>\n",
              "      <td>161.579088</td>\n",
              "      <td>585.127805</td>\n",
              "      <td>440.841926</td>\n",
              "      <td>142.374107</td>\n",
              "      <td>537.679464</td>\n",
              "      <td>407.515179</td>\n",
              "      <td>141.982381</td>\n",
              "      <td>594.780952</td>\n",
              "      <td>399.084762</td>\n",
              "      <td>115.917308</td>\n",
              "      <td>537.271154</td>\n",
              "      <td>427.288462</td>\n",
              "      <td>160.151449</td>\n",
              "      <td>560.319324</td>\n",
              "      <td>386.919565</td>\n",
              "    </tr>\n",
              "    <tr>\n",
              "      <th>ZYWLN4JVLA</th>\n",
              "      <td>150.485425</td>\n",
              "      <td>203.133072</td>\n",
              "      <td>212.040654</td>\n",
              "      <td>135.830874</td>\n",
              "      <td>195.494628</td>\n",
              "      <td>206.897851</td>\n",
              "      <td>205.748189</td>\n",
              "      <td>180.975553</td>\n",
              "      <td>199.118410</td>\n",
              "      <td>146.938604</td>\n",
              "      <td>180.285211</td>\n",
              "      <td>213.779321</td>\n",
              "      <td>130.504590</td>\n",
              "      <td>206.760194</td>\n",
              "      <td>193.676258</td>\n",
              "      <td>211.485470</td>\n",
              "      <td>216.579829</td>\n",
              "      <td>174.162393</td>\n",
              "      <td>126.490744</td>\n",
              "      <td>221.841730</td>\n",
              "      <td>260.945068</td>\n",
              "      <td>129.107668</td>\n",
              "      <td>236.152426</td>\n",
              "      <td>216.308294</td>\n",
              "      <td>173.465161</td>\n",
              "      <td>242.441935</td>\n",
              "      <td>143.272258</td>\n",
              "    </tr>\n",
              "  </tbody>\n",
              "</table>\n",
              "</div>"
            ],
            "text/plain": [
              "            LL_Hold time  LL_Latency time  ...  SS_Latency time  SS_Flight time\n",
              "K2VMDST8HC    143.439611       313.451840  ...       315.763556      213.104825\n",
              "T0RR5A7EFV      0.000000         0.000000  ...       243.150000      109.375000\n",
              "QEYNMBJ8T0    104.503154       325.654494  ...       293.606765      185.181176\n",
              "B4NL4SV9ZC    146.577017       509.350021  ...       560.319324      386.919565\n",
              "ZYWLN4JVLA    150.485425       203.133072  ...       242.441935      143.272258\n",
              "\n",
              "[5 rows x 27 columns]"
            ]
          },
          "metadata": {
            "tags": []
          },
          "execution_count": 24
        }
      ]
    },
    {
      "cell_type": "code",
      "metadata": {
        "id": "_0iL6b6iZ7gb",
        "outputId": "e1b29889-0bb8-4186-d578-5230a28b5bab",
        "colab": {
          "base_uri": "https://localhost:8080/",
          "height": 461
        }
      },
      "source": [
        "data = pd.concat([user_df, user_tappy_df], axis=1)\n",
        "data"
      ],
      "execution_count": null,
      "outputs": [
        {
          "output_type": "execute_result",
          "data": {
            "text/html": [
              "<div>\n",
              "<style scoped>\n",
              "    .dataframe tbody tr th:only-of-type {\n",
              "        vertical-align: middle;\n",
              "    }\n",
              "\n",
              "    .dataframe tbody tr th {\n",
              "        vertical-align: top;\n",
              "    }\n",
              "\n",
              "    .dataframe thead th {\n",
              "        text-align: right;\n",
              "    }\n",
              "</style>\n",
              "<table border=\"1\" class=\"dataframe\">\n",
              "  <thead>\n",
              "    <tr style=\"text-align: right;\">\n",
              "      <th></th>\n",
              "      <th>BirthYear</th>\n",
              "      <th>Female</th>\n",
              "      <th>Parkinsons</th>\n",
              "      <th>Tremors</th>\n",
              "      <th>DiagnosisYear</th>\n",
              "      <th>Sided_Left</th>\n",
              "      <th>Sided_None</th>\n",
              "      <th>Sided_Right</th>\n",
              "      <th>UPDRS_1</th>\n",
              "      <th>UPDRS_2</th>\n",
              "      <th>UPDRS_3</th>\n",
              "      <th>UPDRS_4</th>\n",
              "      <th>UPDRS_Don't know</th>\n",
              "      <th>Impact_Medium</th>\n",
              "      <th>Impact_Mild</th>\n",
              "      <th>Impact_None</th>\n",
              "      <th>Impact_Severe</th>\n",
              "      <th>Levadopa</th>\n",
              "      <th>DA</th>\n",
              "      <th>MAOB</th>\n",
              "      <th>Other</th>\n",
              "      <th>LL_Hold time</th>\n",
              "      <th>LL_Latency time</th>\n",
              "      <th>LL_Flight time</th>\n",
              "      <th>LR_Hold time</th>\n",
              "      <th>LR_Latency time</th>\n",
              "      <th>LR_Flight time</th>\n",
              "      <th>LS_Hold time</th>\n",
              "      <th>LS_Latency time</th>\n",
              "      <th>LS_Flight time</th>\n",
              "      <th>RL_Hold time</th>\n",
              "      <th>RL_Latency time</th>\n",
              "      <th>RL_Flight time</th>\n",
              "      <th>RR_Hold time</th>\n",
              "      <th>RR_Latency time</th>\n",
              "      <th>RR_Flight time</th>\n",
              "      <th>RS_Hold time</th>\n",
              "      <th>RS_Latency time</th>\n",
              "      <th>RS_Flight time</th>\n",
              "      <th>SL_Hold time</th>\n",
              "      <th>SL_Latency time</th>\n",
              "      <th>SL_Flight time</th>\n",
              "      <th>SR_Hold time</th>\n",
              "      <th>SR_Latency time</th>\n",
              "      <th>SR_Flight time</th>\n",
              "      <th>SS_Hold time</th>\n",
              "      <th>SS_Latency time</th>\n",
              "      <th>SS_Flight time</th>\n",
              "    </tr>\n",
              "  </thead>\n",
              "  <tbody>\n",
              "    <tr>\n",
              "      <th>K2VMDST8HC</th>\n",
              "      <td>1954.0</td>\n",
              "      <td>0</td>\n",
              "      <td>1</td>\n",
              "      <td>0</td>\n",
              "      <td>2015.0</td>\n",
              "      <td>1</td>\n",
              "      <td>0</td>\n",
              "      <td>0</td>\n",
              "      <td>0</td>\n",
              "      <td>0</td>\n",
              "      <td>0</td>\n",
              "      <td>0</td>\n",
              "      <td>1</td>\n",
              "      <td>0</td>\n",
              "      <td>1</td>\n",
              "      <td>0</td>\n",
              "      <td>0</td>\n",
              "      <td>0</td>\n",
              "      <td>1</td>\n",
              "      <td>1</td>\n",
              "      <td>0</td>\n",
              "      <td>143.439611</td>\n",
              "      <td>313.451840</td>\n",
              "      <td>277.668629</td>\n",
              "      <td>123.965076</td>\n",
              "      <td>286.797734</td>\n",
              "      <td>174.416430</td>\n",
              "      <td>105.009551</td>\n",
              "      <td>374.256387</td>\n",
              "      <td>212.460390</td>\n",
              "      <td>148.025368</td>\n",
              "      <td>336.717110</td>\n",
              "      <td>250.886146</td>\n",
              "      <td>112.787302</td>\n",
              "      <td>314.351468</td>\n",
              "      <td>213.541242</td>\n",
              "      <td>101.007475</td>\n",
              "      <td>432.341905</td>\n",
              "      <td>321.902255</td>\n",
              "      <td>139.788613</td>\n",
              "      <td>320.436841</td>\n",
              "      <td>292.319217</td>\n",
              "      <td>119.475771</td>\n",
              "      <td>354.072251</td>\n",
              "      <td>286.984588</td>\n",
              "      <td>107.683102</td>\n",
              "      <td>315.763556</td>\n",
              "      <td>213.104825</td>\n",
              "    </tr>\n",
              "    <tr>\n",
              "      <th>T0RR5A7EFV</th>\n",
              "      <td>1943.0</td>\n",
              "      <td>0</td>\n",
              "      <td>1</td>\n",
              "      <td>1</td>\n",
              "      <td>2015.0</td>\n",
              "      <td>1</td>\n",
              "      <td>0</td>\n",
              "      <td>0</td>\n",
              "      <td>0</td>\n",
              "      <td>0</td>\n",
              "      <td>0</td>\n",
              "      <td>0</td>\n",
              "      <td>1</td>\n",
              "      <td>1</td>\n",
              "      <td>0</td>\n",
              "      <td>0</td>\n",
              "      <td>0</td>\n",
              "      <td>1</td>\n",
              "      <td>0</td>\n",
              "      <td>0</td>\n",
              "      <td>0</td>\n",
              "      <td>0.000000</td>\n",
              "      <td>0.000000</td>\n",
              "      <td>0.000000</td>\n",
              "      <td>0.000000</td>\n",
              "      <td>0.000000</td>\n",
              "      <td>0.000000</td>\n",
              "      <td>0.000000</td>\n",
              "      <td>0.000000</td>\n",
              "      <td>0.000000</td>\n",
              "      <td>156.266667</td>\n",
              "      <td>322.933333</td>\n",
              "      <td>177.100000</td>\n",
              "      <td>115.640000</td>\n",
              "      <td>274.220000</td>\n",
              "      <td>151.560000</td>\n",
              "      <td>170.183333</td>\n",
              "      <td>393.533333</td>\n",
              "      <td>283.050000</td>\n",
              "      <td>0.000000</td>\n",
              "      <td>0.000000</td>\n",
              "      <td>0.000000</td>\n",
              "      <td>0.000000</td>\n",
              "      <td>0.000000</td>\n",
              "      <td>0.000000</td>\n",
              "      <td>144.525000</td>\n",
              "      <td>243.150000</td>\n",
              "      <td>109.375000</td>\n",
              "    </tr>\n",
              "    <tr>\n",
              "      <th>QEYNMBJ8T0</th>\n",
              "      <td>1940.0</td>\n",
              "      <td>0</td>\n",
              "      <td>1</td>\n",
              "      <td>0</td>\n",
              "      <td>2009.0</td>\n",
              "      <td>0</td>\n",
              "      <td>1</td>\n",
              "      <td>0</td>\n",
              "      <td>0</td>\n",
              "      <td>0</td>\n",
              "      <td>0</td>\n",
              "      <td>0</td>\n",
              "      <td>1</td>\n",
              "      <td>0</td>\n",
              "      <td>0</td>\n",
              "      <td>0</td>\n",
              "      <td>1</td>\n",
              "      <td>1</td>\n",
              "      <td>0</td>\n",
              "      <td>0</td>\n",
              "      <td>0</td>\n",
              "      <td>104.503154</td>\n",
              "      <td>325.654494</td>\n",
              "      <td>236.717253</td>\n",
              "      <td>93.983030</td>\n",
              "      <td>334.744580</td>\n",
              "      <td>267.112356</td>\n",
              "      <td>106.367529</td>\n",
              "      <td>300.448899</td>\n",
              "      <td>209.942653</td>\n",
              "      <td>102.942208</td>\n",
              "      <td>321.620214</td>\n",
              "      <td>249.948059</td>\n",
              "      <td>97.926893</td>\n",
              "      <td>317.148216</td>\n",
              "      <td>232.030716</td>\n",
              "      <td>96.981944</td>\n",
              "      <td>294.615278</td>\n",
              "      <td>207.971875</td>\n",
              "      <td>110.069118</td>\n",
              "      <td>274.275980</td>\n",
              "      <td>202.524755</td>\n",
              "      <td>88.991572</td>\n",
              "      <td>341.217236</td>\n",
              "      <td>309.614791</td>\n",
              "      <td>109.605588</td>\n",
              "      <td>293.606765</td>\n",
              "      <td>185.181176</td>\n",
              "    </tr>\n",
              "    <tr>\n",
              "      <th>B4NL4SV9ZC</th>\n",
              "      <td>1941.0</td>\n",
              "      <td>1</td>\n",
              "      <td>1</td>\n",
              "      <td>0</td>\n",
              "      <td>2016.0</td>\n",
              "      <td>0</td>\n",
              "      <td>1</td>\n",
              "      <td>0</td>\n",
              "      <td>0</td>\n",
              "      <td>0</td>\n",
              "      <td>0</td>\n",
              "      <td>0</td>\n",
              "      <td>1</td>\n",
              "      <td>0</td>\n",
              "      <td>0</td>\n",
              "      <td>0</td>\n",
              "      <td>1</td>\n",
              "      <td>1</td>\n",
              "      <td>0</td>\n",
              "      <td>0</td>\n",
              "      <td>0</td>\n",
              "      <td>146.577017</td>\n",
              "      <td>509.350021</td>\n",
              "      <td>369.663728</td>\n",
              "      <td>165.152194</td>\n",
              "      <td>579.171524</td>\n",
              "      <td>438.828725</td>\n",
              "      <td>178.644755</td>\n",
              "      <td>602.470280</td>\n",
              "      <td>465.012587</td>\n",
              "      <td>168.510077</td>\n",
              "      <td>556.336927</td>\n",
              "      <td>374.019332</td>\n",
              "      <td>161.579088</td>\n",
              "      <td>585.127805</td>\n",
              "      <td>440.841926</td>\n",
              "      <td>142.374107</td>\n",
              "      <td>537.679464</td>\n",
              "      <td>407.515179</td>\n",
              "      <td>141.982381</td>\n",
              "      <td>594.780952</td>\n",
              "      <td>399.084762</td>\n",
              "      <td>115.917308</td>\n",
              "      <td>537.271154</td>\n",
              "      <td>427.288462</td>\n",
              "      <td>160.151449</td>\n",
              "      <td>560.319324</td>\n",
              "      <td>386.919565</td>\n",
              "    </tr>\n",
              "    <tr>\n",
              "      <th>ZYWLN4JVLA</th>\n",
              "      <td>NaN</td>\n",
              "      <td>1</td>\n",
              "      <td>1</td>\n",
              "      <td>0</td>\n",
              "      <td>NaN</td>\n",
              "      <td>0</td>\n",
              "      <td>0</td>\n",
              "      <td>1</td>\n",
              "      <td>0</td>\n",
              "      <td>0</td>\n",
              "      <td>0</td>\n",
              "      <td>0</td>\n",
              "      <td>1</td>\n",
              "      <td>1</td>\n",
              "      <td>0</td>\n",
              "      <td>0</td>\n",
              "      <td>0</td>\n",
              "      <td>1</td>\n",
              "      <td>1</td>\n",
              "      <td>1</td>\n",
              "      <td>1</td>\n",
              "      <td>150.485425</td>\n",
              "      <td>203.133072</td>\n",
              "      <td>212.040654</td>\n",
              "      <td>135.830874</td>\n",
              "      <td>195.494628</td>\n",
              "      <td>206.897851</td>\n",
              "      <td>205.748189</td>\n",
              "      <td>180.975553</td>\n",
              "      <td>199.118410</td>\n",
              "      <td>146.938604</td>\n",
              "      <td>180.285211</td>\n",
              "      <td>213.779321</td>\n",
              "      <td>130.504590</td>\n",
              "      <td>206.760194</td>\n",
              "      <td>193.676258</td>\n",
              "      <td>211.485470</td>\n",
              "      <td>216.579829</td>\n",
              "      <td>174.162393</td>\n",
              "      <td>126.490744</td>\n",
              "      <td>221.841730</td>\n",
              "      <td>260.945068</td>\n",
              "      <td>129.107668</td>\n",
              "      <td>236.152426</td>\n",
              "      <td>216.308294</td>\n",
              "      <td>173.465161</td>\n",
              "      <td>242.441935</td>\n",
              "      <td>143.272258</td>\n",
              "    </tr>\n",
              "    <tr>\n",
              "      <th>...</th>\n",
              "      <td>...</td>\n",
              "      <td>...</td>\n",
              "      <td>...</td>\n",
              "      <td>...</td>\n",
              "      <td>...</td>\n",
              "      <td>...</td>\n",
              "      <td>...</td>\n",
              "      <td>...</td>\n",
              "      <td>...</td>\n",
              "      <td>...</td>\n",
              "      <td>...</td>\n",
              "      <td>...</td>\n",
              "      <td>...</td>\n",
              "      <td>...</td>\n",
              "      <td>...</td>\n",
              "      <td>...</td>\n",
              "      <td>...</td>\n",
              "      <td>...</td>\n",
              "      <td>...</td>\n",
              "      <td>...</td>\n",
              "      <td>...</td>\n",
              "      <td>...</td>\n",
              "      <td>...</td>\n",
              "      <td>...</td>\n",
              "      <td>...</td>\n",
              "      <td>...</td>\n",
              "      <td>...</td>\n",
              "      <td>...</td>\n",
              "      <td>...</td>\n",
              "      <td>...</td>\n",
              "      <td>...</td>\n",
              "      <td>...</td>\n",
              "      <td>...</td>\n",
              "      <td>...</td>\n",
              "      <td>...</td>\n",
              "      <td>...</td>\n",
              "      <td>...</td>\n",
              "      <td>...</td>\n",
              "      <td>...</td>\n",
              "      <td>...</td>\n",
              "      <td>...</td>\n",
              "      <td>...</td>\n",
              "      <td>...</td>\n",
              "      <td>...</td>\n",
              "      <td>...</td>\n",
              "      <td>...</td>\n",
              "      <td>...</td>\n",
              "      <td>...</td>\n",
              "    </tr>\n",
              "    <tr>\n",
              "      <th>VVYPNRQ5KG</th>\n",
              "      <td>1949.0</td>\n",
              "      <td>1</td>\n",
              "      <td>1</td>\n",
              "      <td>1</td>\n",
              "      <td>2002.0</td>\n",
              "      <td>1</td>\n",
              "      <td>0</td>\n",
              "      <td>0</td>\n",
              "      <td>0</td>\n",
              "      <td>0</td>\n",
              "      <td>0</td>\n",
              "      <td>0</td>\n",
              "      <td>1</td>\n",
              "      <td>0</td>\n",
              "      <td>1</td>\n",
              "      <td>0</td>\n",
              "      <td>0</td>\n",
              "      <td>0</td>\n",
              "      <td>0</td>\n",
              "      <td>0</td>\n",
              "      <td>1</td>\n",
              "      <td>117.536113</td>\n",
              "      <td>241.955771</td>\n",
              "      <td>173.150957</td>\n",
              "      <td>115.403126</td>\n",
              "      <td>205.865029</td>\n",
              "      <td>149.546187</td>\n",
              "      <td>153.978850</td>\n",
              "      <td>211.073492</td>\n",
              "      <td>123.564279</td>\n",
              "      <td>114.312119</td>\n",
              "      <td>242.642987</td>\n",
              "      <td>163.990145</td>\n",
              "      <td>0.000000</td>\n",
              "      <td>239.319970</td>\n",
              "      <td>154.563931</td>\n",
              "      <td>148.475710</td>\n",
              "      <td>267.366395</td>\n",
              "      <td>150.949515</td>\n",
              "      <td>94.905929</td>\n",
              "      <td>243.280263</td>\n",
              "      <td>213.557025</td>\n",
              "      <td>116.522610</td>\n",
              "      <td>288.381603</td>\n",
              "      <td>182.318548</td>\n",
              "      <td>111.212908</td>\n",
              "      <td>223.506383</td>\n",
              "      <td>112.159044</td>\n",
              "    </tr>\n",
              "    <tr>\n",
              "      <th>P8HEQZSYJN</th>\n",
              "      <td>1964.0</td>\n",
              "      <td>1</td>\n",
              "      <td>1</td>\n",
              "      <td>1</td>\n",
              "      <td>2017.0</td>\n",
              "      <td>0</td>\n",
              "      <td>1</td>\n",
              "      <td>0</td>\n",
              "      <td>0</td>\n",
              "      <td>0</td>\n",
              "      <td>0</td>\n",
              "      <td>0</td>\n",
              "      <td>1</td>\n",
              "      <td>1</td>\n",
              "      <td>0</td>\n",
              "      <td>0</td>\n",
              "      <td>0</td>\n",
              "      <td>1</td>\n",
              "      <td>0</td>\n",
              "      <td>0</td>\n",
              "      <td>0</td>\n",
              "      <td>108.409204</td>\n",
              "      <td>359.725746</td>\n",
              "      <td>260.703109</td>\n",
              "      <td>104.640595</td>\n",
              "      <td>304.914750</td>\n",
              "      <td>201.458999</td>\n",
              "      <td>123.335943</td>\n",
              "      <td>330.528114</td>\n",
              "      <td>212.893594</td>\n",
              "      <td>108.875789</td>\n",
              "      <td>376.383289</td>\n",
              "      <td>281.713816</td>\n",
              "      <td>98.727411</td>\n",
              "      <td>398.474365</td>\n",
              "      <td>306.327030</td>\n",
              "      <td>127.662577</td>\n",
              "      <td>348.728834</td>\n",
              "      <td>241.446012</td>\n",
              "      <td>109.396800</td>\n",
              "      <td>469.828400</td>\n",
              "      <td>356.544800</td>\n",
              "      <td>109.336957</td>\n",
              "      <td>485.551449</td>\n",
              "      <td>372.526087</td>\n",
              "      <td>104.447826</td>\n",
              "      <td>322.860870</td>\n",
              "      <td>214.495652</td>\n",
              "    </tr>\n",
              "    <tr>\n",
              "      <th>FXC5YFXZ0K</th>\n",
              "      <td>1943.0</td>\n",
              "      <td>0</td>\n",
              "      <td>1</td>\n",
              "      <td>0</td>\n",
              "      <td>2009.0</td>\n",
              "      <td>1</td>\n",
              "      <td>0</td>\n",
              "      <td>0</td>\n",
              "      <td>0</td>\n",
              "      <td>0</td>\n",
              "      <td>0</td>\n",
              "      <td>0</td>\n",
              "      <td>1</td>\n",
              "      <td>1</td>\n",
              "      <td>0</td>\n",
              "      <td>0</td>\n",
              "      <td>0</td>\n",
              "      <td>1</td>\n",
              "      <td>0</td>\n",
              "      <td>0</td>\n",
              "      <td>1</td>\n",
              "      <td>131.221496</td>\n",
              "      <td>290.680924</td>\n",
              "      <td>203.035908</td>\n",
              "      <td>124.164253</td>\n",
              "      <td>228.854086</td>\n",
              "      <td>181.636540</td>\n",
              "      <td>219.987252</td>\n",
              "      <td>250.033785</td>\n",
              "      <td>147.821263</td>\n",
              "      <td>122.261073</td>\n",
              "      <td>257.928417</td>\n",
              "      <td>188.147333</td>\n",
              "      <td>126.537081</td>\n",
              "      <td>253.526713</td>\n",
              "      <td>177.255838</td>\n",
              "      <td>160.483622</td>\n",
              "      <td>299.892456</td>\n",
              "      <td>154.141470</td>\n",
              "      <td>113.737797</td>\n",
              "      <td>299.220726</td>\n",
              "      <td>286.756512</td>\n",
              "      <td>114.946486</td>\n",
              "      <td>325.533434</td>\n",
              "      <td>283.628018</td>\n",
              "      <td>114.491635</td>\n",
              "      <td>251.313810</td>\n",
              "      <td>136.587505</td>\n",
              "    </tr>\n",
              "    <tr>\n",
              "      <th>PW8A521Y5K</th>\n",
              "      <td>NaN</td>\n",
              "      <td>0</td>\n",
              "      <td>1</td>\n",
              "      <td>1</td>\n",
              "      <td>2016.0</td>\n",
              "      <td>1</td>\n",
              "      <td>0</td>\n",
              "      <td>0</td>\n",
              "      <td>0</td>\n",
              "      <td>0</td>\n",
              "      <td>0</td>\n",
              "      <td>0</td>\n",
              "      <td>1</td>\n",
              "      <td>0</td>\n",
              "      <td>1</td>\n",
              "      <td>0</td>\n",
              "      <td>0</td>\n",
              "      <td>0</td>\n",
              "      <td>0</td>\n",
              "      <td>0</td>\n",
              "      <td>0</td>\n",
              "      <td>94.355224</td>\n",
              "      <td>323.605970</td>\n",
              "      <td>226.258209</td>\n",
              "      <td>83.788000</td>\n",
              "      <td>309.856000</td>\n",
              "      <td>208.720000</td>\n",
              "      <td>93.120000</td>\n",
              "      <td>350.913333</td>\n",
              "      <td>263.740000</td>\n",
              "      <td>101.303333</td>\n",
              "      <td>292.320000</td>\n",
              "      <td>200.393333</td>\n",
              "      <td>77.667500</td>\n",
              "      <td>329.052500</td>\n",
              "      <td>248.582500</td>\n",
              "      <td>85.740000</td>\n",
              "      <td>380.413333</td>\n",
              "      <td>298.100000</td>\n",
              "      <td>103.785714</td>\n",
              "      <td>409.042857</td>\n",
              "      <td>312.757143</td>\n",
              "      <td>81.620000</td>\n",
              "      <td>387.120000</td>\n",
              "      <td>297.460000</td>\n",
              "      <td>0.000000</td>\n",
              "      <td>0.000000</td>\n",
              "      <td>0.000000</td>\n",
              "    </tr>\n",
              "    <tr>\n",
              "      <th>AFQWSP8ARK</th>\n",
              "      <td>NaN</td>\n",
              "      <td>0</td>\n",
              "      <td>1</td>\n",
              "      <td>1</td>\n",
              "      <td>NaN</td>\n",
              "      <td>1</td>\n",
              "      <td>0</td>\n",
              "      <td>0</td>\n",
              "      <td>0</td>\n",
              "      <td>0</td>\n",
              "      <td>0</td>\n",
              "      <td>0</td>\n",
              "      <td>1</td>\n",
              "      <td>0</td>\n",
              "      <td>1</td>\n",
              "      <td>0</td>\n",
              "      <td>0</td>\n",
              "      <td>1</td>\n",
              "      <td>0</td>\n",
              "      <td>0</td>\n",
              "      <td>0</td>\n",
              "      <td>105.567153</td>\n",
              "      <td>302.385222</td>\n",
              "      <td>203.500422</td>\n",
              "      <td>112.592355</td>\n",
              "      <td>245.318673</td>\n",
              "      <td>140.075116</td>\n",
              "      <td>111.697632</td>\n",
              "      <td>247.849400</td>\n",
              "      <td>146.736372</td>\n",
              "      <td>112.891994</td>\n",
              "      <td>283.562773</td>\n",
              "      <td>180.524891</td>\n",
              "      <td>107.137578</td>\n",
              "      <td>304.072598</td>\n",
              "      <td>209.578707</td>\n",
              "      <td>105.064712</td>\n",
              "      <td>325.347446</td>\n",
              "      <td>227.954113</td>\n",
              "      <td>110.973543</td>\n",
              "      <td>259.259183</td>\n",
              "      <td>191.714327</td>\n",
              "      <td>112.971916</td>\n",
              "      <td>294.051020</td>\n",
              "      <td>263.949281</td>\n",
              "      <td>94.315783</td>\n",
              "      <td>196.858982</td>\n",
              "      <td>107.895806</td>\n",
              "    </tr>\n",
              "  </tbody>\n",
              "</table>\n",
              "<p>217 rows × 48 columns</p>\n",
              "</div>"
            ],
            "text/plain": [
              "            BirthYear  Female  ...  SS_Latency time  SS_Flight time\n",
              "K2VMDST8HC     1954.0       0  ...       315.763556      213.104825\n",
              "T0RR5A7EFV     1943.0       0  ...       243.150000      109.375000\n",
              "QEYNMBJ8T0     1940.0       0  ...       293.606765      185.181176\n",
              "B4NL4SV9ZC     1941.0       1  ...       560.319324      386.919565\n",
              "ZYWLN4JVLA        NaN       1  ...       242.441935      143.272258\n",
              "...               ...     ...  ...              ...             ...\n",
              "VVYPNRQ5KG     1949.0       1  ...       223.506383      112.159044\n",
              "P8HEQZSYJN     1964.0       1  ...       322.860870      214.495652\n",
              "FXC5YFXZ0K     1943.0       0  ...       251.313810      136.587505\n",
              "PW8A521Y5K        NaN       0  ...         0.000000        0.000000\n",
              "AFQWSP8ARK        NaN       0  ...       196.858982      107.895806\n",
              "\n",
              "[217 rows x 48 columns]"
            ]
          },
          "metadata": {
            "tags": []
          },
          "execution_count": 25
        }
      ]
    },
    {
      "cell_type": "markdown",
      "metadata": {
        "id": "gbNHUSzGdzf0"
      },
      "source": [
        "# Splitting Train/Test data"
      ]
    },
    {
      "cell_type": "code",
      "metadata": {
        "id": "0qFhDDVsdxI-",
        "outputId": "048aac5c-730e-4776-fbeb-ab3ec7d84702",
        "colab": {
          "base_uri": "https://localhost:8080/",
          "height": 69
        }
      },
      "source": [
        "import random\n",
        "data['BirthYear'] = data['BirthYear'].replace(np.nan, random.randrange(1940,1950,1))\n",
        "data['DiagnosisYear'] = data['DiagnosisYear'].replace(np.nan, random.randrange(2012,2015,1))\n",
        "# print(data)\n",
        "pos=data[data['Parkinsons']==1]\n",
        "neg=data[data['Parkinsons']==0]\n",
        "print(pos.shape)\n",
        "print(neg.shape)\n",
        "train_pos=pos.head(pos.shape[0]-30)\n",
        "train_neg=neg.head(neg.shape[0]-10)\n",
        "train=pd.concat([train_pos, train_neg])\n",
        "print('train shape', train.shape)\n",
        "\n",
        "test_pos=pos.tail(30)\n",
        "test_neg=neg.tail(10)\n",
        "test=pd.concat([test_pos, test_neg])\n",
        "\n",
        "\n",
        "train_y=train['Parkinsons']\n",
        "train_x=train.drop(['Parkinsons'], axis=1)\n",
        "test_y=test['Parkinsons']\n",
        "test_x=test.drop(['Parkinsons'], axis=1)\n",
        "testFile=\"/content/drive/My Drive/x_test_tappy.csv\"\n",
        "test_x.to_csv(testFile, encoding='utf-8', index=False)\n"
      ],
      "execution_count": null,
      "outputs": [
        {
          "output_type": "stream",
          "text": [
            "(162, 48)\n",
            "(55, 48)\n",
            "train shape (177, 48)\n"
          ],
          "name": "stdout"
        }
      ]
    },
    {
      "cell_type": "markdown",
      "metadata": {
        "id": "uMWPmpuzi03G"
      },
      "source": [
        "# Defining Accuracy, Precision, recall and f1"
      ]
    },
    {
      "cell_type": "code",
      "metadata": {
        "id": "5O9MlszXi7LX"
      },
      "source": [
        "def accuracy(prediction,actual):\n",
        "    correct = 0\n",
        "    not_correct = 0\n",
        "    for i in range(len(prediction)):\n",
        "        if prediction[i] == actual[i]:\n",
        "            correct+=1\n",
        "        else:\n",
        "            not_correct+=1\n",
        "    return float(\"{0:.2f}\".format((correct*100)/(correct+not_correct)))\n",
        "\n",
        "\n",
        "def metrics(prediction,actual):\n",
        "    tp = 0\n",
        "    tn = 0\n",
        "    fp = 0\n",
        "    fn = 0\n",
        "    for i in range(len(prediction)):\n",
        "        if prediction[i] == actual[i] and actual[i]==1:\n",
        "            tp+=1\n",
        "        if prediction[i] == actual[i] and actual[i]==0:\n",
        "            tn+=1\n",
        "        if prediction[i] != actual[i] and actual[i]==0:\n",
        "            fp+=1\n",
        "        if prediction[i] != actual[i] and actual[i]==1:\n",
        "            fn+=1\n",
        "    print(tp,tn,fp,fn)\n",
        "    metrics = {'Precision':(tp/(tp+fp)),'Sensitivity':(tp/(tp+fn)),'Specificity':(tn/(tn+fp)),'F1':(2*(tp/(tp+fp))*(tp/(tp+fn)))/((tp/(tp+fp))+(tp/(tp+fn)))}\n",
        "    return (metrics)"
      ],
      "execution_count": null,
      "outputs": []
    },
    {
      "cell_type": "code",
      "metadata": {
        "id": "Lp1WL2-8_VAi"
      },
      "source": [],
      "execution_count": null,
      "outputs": []
    },
    {
      "cell_type": "markdown",
      "metadata": {
        "id": "ri7YusRijLQB"
      },
      "source": [
        "# Importing libraries"
      ]
    },
    {
      "cell_type": "code",
      "metadata": {
        "id": "fxPC_ueWjOn9"
      },
      "source": [
        "from sklearn.linear_model import LogisticRegression\n",
        "from sklearn.ensemble import RandomForestClassifier\n",
        "from sklearn.svm import SVC\n",
        "from sklearn.tree import DecisionTreeClassifier\n",
        "from sklearn.neighbors import KNeighborsClassifier\n",
        "from sklearn.ensemble import AdaBoostClassifier\n",
        "from sklearn.tree import DecisionTreeClassifier\n",
        "from sklearn.linear_model import SGDClassifier\n",
        "from sklearn.neural_network import MLPClassifier\n",
        "from sklearn.ensemble import VotingClassifier"
      ],
      "execution_count": null,
      "outputs": []
    },
    {
      "cell_type": "code",
      "metadata": {
        "id": "8rs2Zbgjtubn",
        "outputId": "91cb9d33-64a5-4404-9928-7a20033a2af4",
        "colab": {
          "base_uri": "https://localhost:8080/",
          "height": 378
        }
      },
      "source": [
        "clf=SVC()\n",
        "clf.fit(train_x, train_y)\n",
        "preds=clf.predict(test_x)\n",
        "SVM = accuracy(test_y.tolist(), preds.tolist())\n",
        "SVMM = metrics(test_y.tolist(), preds.tolist())\n",
        "print('accuracy:',SVM, '%')\n",
        "print(metrics(test_y.tolist(), preds.tolist()))"
      ],
      "execution_count": null,
      "outputs": [
        {
          "output_type": "stream",
          "text": [
            "30 0 0 10\n"
          ],
          "name": "stdout"
        },
        {
          "output_type": "error",
          "ename": "ZeroDivisionError",
          "evalue": "ignored",
          "traceback": [
            "\u001b[0;31m---------------------------------------------------------------------------\u001b[0m",
            "\u001b[0;31mZeroDivisionError\u001b[0m                         Traceback (most recent call last)",
            "\u001b[0;32m<ipython-input-77-8b97c86cb76e>\u001b[0m in \u001b[0;36m<module>\u001b[0;34m()\u001b[0m\n\u001b[1;32m      3\u001b[0m \u001b[0mpreds\u001b[0m\u001b[0;34m=\u001b[0m\u001b[0mclf\u001b[0m\u001b[0;34m.\u001b[0m\u001b[0mpredict\u001b[0m\u001b[0;34m(\u001b[0m\u001b[0mtest_x\u001b[0m\u001b[0;34m)\u001b[0m\u001b[0;34m\u001b[0m\u001b[0;34m\u001b[0m\u001b[0m\n\u001b[1;32m      4\u001b[0m \u001b[0mSVM\u001b[0m \u001b[0;34m=\u001b[0m \u001b[0maccuracy\u001b[0m\u001b[0;34m(\u001b[0m\u001b[0mtest_y\u001b[0m\u001b[0;34m.\u001b[0m\u001b[0mtolist\u001b[0m\u001b[0;34m(\u001b[0m\u001b[0;34m)\u001b[0m\u001b[0;34m,\u001b[0m \u001b[0mpreds\u001b[0m\u001b[0;34m.\u001b[0m\u001b[0mtolist\u001b[0m\u001b[0;34m(\u001b[0m\u001b[0;34m)\u001b[0m\u001b[0;34m)\u001b[0m\u001b[0;34m\u001b[0m\u001b[0;34m\u001b[0m\u001b[0m\n\u001b[0;32m----> 5\u001b[0;31m \u001b[0mSVMM\u001b[0m \u001b[0;34m=\u001b[0m \u001b[0mmetrics\u001b[0m\u001b[0;34m(\u001b[0m\u001b[0mtest_y\u001b[0m\u001b[0;34m.\u001b[0m\u001b[0mtolist\u001b[0m\u001b[0;34m(\u001b[0m\u001b[0;34m)\u001b[0m\u001b[0;34m,\u001b[0m \u001b[0mpreds\u001b[0m\u001b[0;34m.\u001b[0m\u001b[0mtolist\u001b[0m\u001b[0;34m(\u001b[0m\u001b[0;34m)\u001b[0m\u001b[0;34m)\u001b[0m\u001b[0;34m\u001b[0m\u001b[0;34m\u001b[0m\u001b[0m\n\u001b[0m\u001b[1;32m      6\u001b[0m \u001b[0mprint\u001b[0m\u001b[0;34m(\u001b[0m\u001b[0;34m'accuracy:'\u001b[0m\u001b[0;34m,\u001b[0m\u001b[0mSVM\u001b[0m\u001b[0;34m,\u001b[0m \u001b[0;34m'%'\u001b[0m\u001b[0;34m)\u001b[0m\u001b[0;34m\u001b[0m\u001b[0;34m\u001b[0m\u001b[0m\n\u001b[1;32m      7\u001b[0m \u001b[0mprint\u001b[0m\u001b[0;34m(\u001b[0m\u001b[0mmetrics\u001b[0m\u001b[0;34m(\u001b[0m\u001b[0mtest_y\u001b[0m\u001b[0;34m.\u001b[0m\u001b[0mtolist\u001b[0m\u001b[0;34m(\u001b[0m\u001b[0;34m)\u001b[0m\u001b[0;34m,\u001b[0m \u001b[0mpreds\u001b[0m\u001b[0;34m.\u001b[0m\u001b[0mtolist\u001b[0m\u001b[0;34m(\u001b[0m\u001b[0;34m)\u001b[0m\u001b[0;34m)\u001b[0m\u001b[0;34m)\u001b[0m\u001b[0;34m\u001b[0m\u001b[0;34m\u001b[0m\u001b[0m\n",
            "\u001b[0;32m<ipython-input-76-f2bcebe01f28>\u001b[0m in \u001b[0;36mmetrics\u001b[0;34m(prediction, actual)\u001b[0m\n\u001b[1;32m     25\u001b[0m             \u001b[0mfn\u001b[0m\u001b[0;34m+=\u001b[0m\u001b[0;36m1\u001b[0m\u001b[0;34m\u001b[0m\u001b[0;34m\u001b[0m\u001b[0m\n\u001b[1;32m     26\u001b[0m     \u001b[0mprint\u001b[0m\u001b[0;34m(\u001b[0m\u001b[0mtp\u001b[0m\u001b[0;34m,\u001b[0m\u001b[0mtn\u001b[0m\u001b[0;34m,\u001b[0m\u001b[0mfp\u001b[0m\u001b[0;34m,\u001b[0m\u001b[0mfn\u001b[0m\u001b[0;34m)\u001b[0m\u001b[0;34m\u001b[0m\u001b[0;34m\u001b[0m\u001b[0m\n\u001b[0;32m---> 27\u001b[0;31m     \u001b[0mmetrics\u001b[0m \u001b[0;34m=\u001b[0m \u001b[0;34m{\u001b[0m\u001b[0;34m'Precision'\u001b[0m\u001b[0;34m:\u001b[0m\u001b[0;34m(\u001b[0m\u001b[0mtp\u001b[0m\u001b[0;34m/\u001b[0m\u001b[0;34m(\u001b[0m\u001b[0mtp\u001b[0m\u001b[0;34m+\u001b[0m\u001b[0mfp\u001b[0m\u001b[0;34m)\u001b[0m\u001b[0;34m)\u001b[0m\u001b[0;34m,\u001b[0m\u001b[0;34m'Sensitivity'\u001b[0m\u001b[0;34m:\u001b[0m\u001b[0;34m(\u001b[0m\u001b[0mtp\u001b[0m\u001b[0;34m/\u001b[0m\u001b[0;34m(\u001b[0m\u001b[0mtp\u001b[0m\u001b[0;34m+\u001b[0m\u001b[0mfn\u001b[0m\u001b[0;34m)\u001b[0m\u001b[0;34m)\u001b[0m\u001b[0;34m,\u001b[0m\u001b[0;34m'Specificity'\u001b[0m\u001b[0;34m:\u001b[0m\u001b[0;34m(\u001b[0m\u001b[0mtn\u001b[0m\u001b[0;34m/\u001b[0m\u001b[0;34m(\u001b[0m\u001b[0mtn\u001b[0m\u001b[0;34m+\u001b[0m\u001b[0mfp\u001b[0m\u001b[0;34m)\u001b[0m\u001b[0;34m)\u001b[0m\u001b[0;34m,\u001b[0m\u001b[0;34m'F1'\u001b[0m\u001b[0;34m:\u001b[0m\u001b[0;34m(\u001b[0m\u001b[0;36m2\u001b[0m\u001b[0;34m*\u001b[0m\u001b[0;34m(\u001b[0m\u001b[0mtp\u001b[0m\u001b[0;34m/\u001b[0m\u001b[0;34m(\u001b[0m\u001b[0mtp\u001b[0m\u001b[0;34m+\u001b[0m\u001b[0mfp\u001b[0m\u001b[0;34m)\u001b[0m\u001b[0;34m)\u001b[0m\u001b[0;34m*\u001b[0m\u001b[0;34m(\u001b[0m\u001b[0mtp\u001b[0m\u001b[0;34m/\u001b[0m\u001b[0;34m(\u001b[0m\u001b[0mtp\u001b[0m\u001b[0;34m+\u001b[0m\u001b[0mfn\u001b[0m\u001b[0;34m)\u001b[0m\u001b[0;34m)\u001b[0m\u001b[0;34m)\u001b[0m\u001b[0;34m/\u001b[0m\u001b[0;34m(\u001b[0m\u001b[0;34m(\u001b[0m\u001b[0mtp\u001b[0m\u001b[0;34m/\u001b[0m\u001b[0;34m(\u001b[0m\u001b[0mtp\u001b[0m\u001b[0;34m+\u001b[0m\u001b[0mfp\u001b[0m\u001b[0;34m)\u001b[0m\u001b[0;34m)\u001b[0m\u001b[0;34m+\u001b[0m\u001b[0;34m(\u001b[0m\u001b[0mtp\u001b[0m\u001b[0;34m/\u001b[0m\u001b[0;34m(\u001b[0m\u001b[0mtp\u001b[0m\u001b[0;34m+\u001b[0m\u001b[0mfn\u001b[0m\u001b[0;34m)\u001b[0m\u001b[0;34m)\u001b[0m\u001b[0;34m)\u001b[0m\u001b[0;34m}\u001b[0m\u001b[0;34m\u001b[0m\u001b[0;34m\u001b[0m\u001b[0m\n\u001b[0m\u001b[1;32m     28\u001b[0m     \u001b[0;32mreturn\u001b[0m \u001b[0;34m(\u001b[0m\u001b[0mmetrics\u001b[0m\u001b[0;34m)\u001b[0m\u001b[0;34m\u001b[0m\u001b[0;34m\u001b[0m\u001b[0m\n",
            "\u001b[0;31mZeroDivisionError\u001b[0m: division by zero"
          ]
        }
      ]
    },
    {
      "cell_type": "markdown",
      "metadata": {
        "id": "kRJzOdcqjay_"
      },
      "source": [
        "# Logistic Regression"
      ]
    },
    {
      "cell_type": "code",
      "metadata": {
        "id": "oniBkCtOjo1k",
        "outputId": "5b9e01dd-b8e0-45dc-bebd-30d05a41f87c",
        "colab": {
          "base_uri": "https://localhost:8080/",
          "height": 106
        }
      },
      "source": [
        "clf=LogisticRegression()\n",
        "clf.fit(train_x, train_y)\n",
        "preds=clf.predict(test_x)\n",
        "LR = accuracy(test_y.tolist(), preds.tolist())\n",
        "LRM = metrics(test_y.tolist(), preds.tolist())\n",
        "print('accuracy:',LR, '%')\n",
        "print(metrics(test_y.tolist(), preds.tolist()))"
      ],
      "execution_count": null,
      "outputs": [
        {
          "output_type": "stream",
          "text": [
            "26 1 4 9\n",
            "accuracy: 67.5 %\n",
            "26 1 4 9\n",
            "{'Precision': 0.8666666666666667, 'Sensitivity': 0.7428571428571429, 'Specificity': 0.2, 'F1': 0.8}\n"
          ],
          "name": "stdout"
        }
      ]
    },
    {
      "cell_type": "markdown",
      "metadata": {
        "id": "oun_XAsvtaNq"
      },
      "source": [
        "# Random Forest"
      ]
    },
    {
      "cell_type": "code",
      "metadata": {
        "id": "m6DLVmPptgL1",
        "outputId": "247b0d34-33c4-45b5-ab1d-9a96f314105e",
        "colab": {
          "base_uri": "https://localhost:8080/",
          "height": 106
        }
      },
      "source": [
        "clf1=RandomForestClassifier(n_estimators=100)\n",
        "clf1.fit(train_x, train_y)\n",
        "preds=clf1.predict(test_x)\n",
        "RF = accuracy(test_y.tolist(), preds.tolist())\n",
        "RFM = metrics(test_y.tolist(), preds.tolist())\n",
        "print('accuracy:',RF, '%')\n",
        "print(metrics(test_y.tolist(), preds.tolist()))\n"
      ],
      "execution_count": null,
      "outputs": [
        {
          "output_type": "stream",
          "text": [
            "29 9 1 1\n",
            "accuracy: 95.0 %\n",
            "29 9 1 1\n",
            "{'Precision': 0.9666666666666667, 'Sensitivity': 0.9666666666666667, 'Specificity': 0.9, 'F1': 0.9666666666666667}\n"
          ],
          "name": "stdout"
        }
      ]
    },
    {
      "cell_type": "markdown",
      "metadata": {
        "id": "oMEkl7Rvto4r"
      },
      "source": [
        "# Support vector Machine"
      ]
    },
    {
      "cell_type": "markdown",
      "metadata": {
        "id": "Yj5FS807txUt"
      },
      "source": [
        "# KNeighbors Classifier"
      ]
    },
    {
      "cell_type": "code",
      "metadata": {
        "id": "XO0D4UNQt6S4",
        "outputId": "faed920a-ab2b-4a99-aa11-92075885bf94",
        "colab": {
          "base_uri": "https://localhost:8080/",
          "height": 106
        }
      },
      "source": [
        "clf=KNeighborsClassifier()\n",
        "clf.fit(train_x, train_y)\n",
        "preds=clf.predict(test_x)\n",
        "KN = accuracy(test_y.tolist(), preds.tolist())\n",
        "KNM = metrics(test_y.tolist(), preds.tolist())\n",
        "print('accuracy:',KN, '%')\n",
        "print(metrics(test_y.tolist(), preds.tolist()))\n"
      ],
      "execution_count": null,
      "outputs": [
        {
          "output_type": "stream",
          "text": [
            "28 2 2 8\n",
            "accuracy: 75.0 %\n",
            "28 2 2 8\n",
            "{'Precision': 0.9333333333333333, 'Sensitivity': 0.7777777777777778, 'Specificity': 0.5, 'F1': 0.8484848484848485}\n"
          ],
          "name": "stdout"
        }
      ]
    },
    {
      "cell_type": "markdown",
      "metadata": {
        "id": "mlfGNht5uECQ"
      },
      "source": [
        "# Adaptive Boosting"
      ]
    },
    {
      "cell_type": "code",
      "metadata": {
        "id": "Cy0e8ddwuILx",
        "outputId": "81017adf-3a8d-4a8c-bbed-c4a900a3d49b",
        "colab": {
          "base_uri": "https://localhost:8080/",
          "height": 106
        }
      },
      "source": [
        "import pickle\n",
        "clf2=AdaBoostClassifier(n_estimators=100,learning_rate=1)\n",
        "clf2.fit(train_x, train_y)\n",
        "\n",
        "# Save the trained model as a pickle string.\n",
        "filename=\"/content/drive/My Drive/tappy_model.sav\"\n",
        "pickle.dump(clf2, open(filename, 'wb'))\n",
        "\n",
        "preds=clf2.predict(test_x)\n",
        "AB = accuracy(test_y.tolist(), preds.tolist())\n",
        "ABM = metrics(test_y.tolist(), preds.tolist())\n",
        "print('accuracy:',AB, '%')\n",
        "print(metrics(test_y.tolist(), preds.tolist()))"
      ],
      "execution_count": null,
      "outputs": [
        {
          "output_type": "stream",
          "text": [
            "29 9 1 1\n",
            "accuracy: 95.0 %\n",
            "29 9 1 1\n",
            "{'Precision': 0.9666666666666667, 'Sensitivity': 0.9666666666666667, 'Specificity': 0.9, 'F1': 0.9666666666666667}\n"
          ],
          "name": "stdout"
        }
      ]
    },
    {
      "cell_type": "markdown",
      "metadata": {
        "id": "-tU38XoDuLVA"
      },
      "source": [
        "# Decision Tree"
      ]
    },
    {
      "cell_type": "code",
      "metadata": {
        "id": "eV6l4R5quQ26",
        "outputId": "8bb15895-ff95-4185-c2a0-3b831ba6c761",
        "colab": {
          "base_uri": "https://localhost:8080/",
          "height": 106
        }
      },
      "source": [
        "clf3=DecisionTreeClassifier(criterion=\"entropy\", max_depth=3)\n",
        "clf3.fit(train_x, train_y)\n",
        "preds=clf3.predict(test_x)\n",
        "DT = accuracy(test_y.tolist(), preds.tolist())\n",
        "DTM = metrics(test_y.tolist(), preds.tolist())\n",
        "print('accuracy:',DT, '%')\n",
        "print(metrics(test_y.tolist(), preds.tolist()))\n"
      ],
      "execution_count": null,
      "outputs": [
        {
          "output_type": "stream",
          "text": [
            "29 9 1 1\n",
            "accuracy: 95.0 %\n",
            "29 9 1 1\n",
            "{'Precision': 0.9666666666666667, 'Sensitivity': 0.9666666666666667, 'Specificity': 0.9, 'F1': 0.9666666666666667}\n"
          ],
          "name": "stdout"
        }
      ]
    },
    {
      "cell_type": "markdown",
      "metadata": {
        "id": "hhCrHYhUuTzp"
      },
      "source": [
        "# Stochastic Gradient Descent"
      ]
    },
    {
      "cell_type": "code",
      "metadata": {
        "id": "YcUdMVrOudQ_",
        "outputId": "70357e31-6654-4d64-cd04-f91f7e9d3905",
        "colab": {
          "base_uri": "https://localhost:8080/",
          "height": 378
        }
      },
      "source": [
        "clf = SGDClassifier(loss=\"hinge\", penalty=\"l2\", max_iter=5)\n",
        "clf.fit(train_x, train_y)\n",
        "preds=clf.predict(test_x)\n",
        "SGD = accuracy(test_y.tolist(), preds.tolist())\n",
        "SGDM = metrics(test_y.tolist(), preds.tolist())\n",
        "print('accuracy:',SGD, '%')\n",
        "print(metrics(test_y.tolist(), preds.tolist()))"
      ],
      "execution_count": null,
      "outputs": [
        {
          "output_type": "stream",
          "text": [
            "30 0 0 10\n"
          ],
          "name": "stdout"
        },
        {
          "output_type": "error",
          "ename": "ZeroDivisionError",
          "evalue": "ignored",
          "traceback": [
            "\u001b[0;31m---------------------------------------------------------------------------\u001b[0m",
            "\u001b[0;31mZeroDivisionError\u001b[0m                         Traceback (most recent call last)",
            "\u001b[0;32m<ipython-input-83-669886e86c4d>\u001b[0m in \u001b[0;36m<module>\u001b[0;34m()\u001b[0m\n\u001b[1;32m      3\u001b[0m \u001b[0mpreds\u001b[0m\u001b[0;34m=\u001b[0m\u001b[0mclf\u001b[0m\u001b[0;34m.\u001b[0m\u001b[0mpredict\u001b[0m\u001b[0;34m(\u001b[0m\u001b[0mtest_x\u001b[0m\u001b[0;34m)\u001b[0m\u001b[0;34m\u001b[0m\u001b[0;34m\u001b[0m\u001b[0m\n\u001b[1;32m      4\u001b[0m \u001b[0mSGD\u001b[0m \u001b[0;34m=\u001b[0m \u001b[0maccuracy\u001b[0m\u001b[0;34m(\u001b[0m\u001b[0mtest_y\u001b[0m\u001b[0;34m.\u001b[0m\u001b[0mtolist\u001b[0m\u001b[0;34m(\u001b[0m\u001b[0;34m)\u001b[0m\u001b[0;34m,\u001b[0m \u001b[0mpreds\u001b[0m\u001b[0;34m.\u001b[0m\u001b[0mtolist\u001b[0m\u001b[0;34m(\u001b[0m\u001b[0;34m)\u001b[0m\u001b[0;34m)\u001b[0m\u001b[0;34m\u001b[0m\u001b[0;34m\u001b[0m\u001b[0m\n\u001b[0;32m----> 5\u001b[0;31m \u001b[0mSGDM\u001b[0m \u001b[0;34m=\u001b[0m \u001b[0mmetrics\u001b[0m\u001b[0;34m(\u001b[0m\u001b[0mtest_y\u001b[0m\u001b[0;34m.\u001b[0m\u001b[0mtolist\u001b[0m\u001b[0;34m(\u001b[0m\u001b[0;34m)\u001b[0m\u001b[0;34m,\u001b[0m \u001b[0mpreds\u001b[0m\u001b[0;34m.\u001b[0m\u001b[0mtolist\u001b[0m\u001b[0;34m(\u001b[0m\u001b[0;34m)\u001b[0m\u001b[0;34m)\u001b[0m\u001b[0;34m\u001b[0m\u001b[0;34m\u001b[0m\u001b[0m\n\u001b[0m\u001b[1;32m      6\u001b[0m \u001b[0mprint\u001b[0m\u001b[0;34m(\u001b[0m\u001b[0;34m'accuracy:'\u001b[0m\u001b[0;34m,\u001b[0m\u001b[0mSGD\u001b[0m\u001b[0;34m,\u001b[0m \u001b[0;34m'%'\u001b[0m\u001b[0;34m)\u001b[0m\u001b[0;34m\u001b[0m\u001b[0;34m\u001b[0m\u001b[0m\n\u001b[1;32m      7\u001b[0m \u001b[0mprint\u001b[0m\u001b[0;34m(\u001b[0m\u001b[0mmetrics\u001b[0m\u001b[0;34m(\u001b[0m\u001b[0mtest_y\u001b[0m\u001b[0;34m.\u001b[0m\u001b[0mtolist\u001b[0m\u001b[0;34m(\u001b[0m\u001b[0;34m)\u001b[0m\u001b[0;34m,\u001b[0m \u001b[0mpreds\u001b[0m\u001b[0;34m.\u001b[0m\u001b[0mtolist\u001b[0m\u001b[0;34m(\u001b[0m\u001b[0;34m)\u001b[0m\u001b[0;34m)\u001b[0m\u001b[0;34m)\u001b[0m\u001b[0;34m\u001b[0m\u001b[0;34m\u001b[0m\u001b[0m\n",
            "\u001b[0;32m<ipython-input-76-f2bcebe01f28>\u001b[0m in \u001b[0;36mmetrics\u001b[0;34m(prediction, actual)\u001b[0m\n\u001b[1;32m     25\u001b[0m             \u001b[0mfn\u001b[0m\u001b[0;34m+=\u001b[0m\u001b[0;36m1\u001b[0m\u001b[0;34m\u001b[0m\u001b[0;34m\u001b[0m\u001b[0m\n\u001b[1;32m     26\u001b[0m     \u001b[0mprint\u001b[0m\u001b[0;34m(\u001b[0m\u001b[0mtp\u001b[0m\u001b[0;34m,\u001b[0m\u001b[0mtn\u001b[0m\u001b[0;34m,\u001b[0m\u001b[0mfp\u001b[0m\u001b[0;34m,\u001b[0m\u001b[0mfn\u001b[0m\u001b[0;34m)\u001b[0m\u001b[0;34m\u001b[0m\u001b[0;34m\u001b[0m\u001b[0m\n\u001b[0;32m---> 27\u001b[0;31m     \u001b[0mmetrics\u001b[0m \u001b[0;34m=\u001b[0m \u001b[0;34m{\u001b[0m\u001b[0;34m'Precision'\u001b[0m\u001b[0;34m:\u001b[0m\u001b[0;34m(\u001b[0m\u001b[0mtp\u001b[0m\u001b[0;34m/\u001b[0m\u001b[0;34m(\u001b[0m\u001b[0mtp\u001b[0m\u001b[0;34m+\u001b[0m\u001b[0mfp\u001b[0m\u001b[0;34m)\u001b[0m\u001b[0;34m)\u001b[0m\u001b[0;34m,\u001b[0m\u001b[0;34m'Sensitivity'\u001b[0m\u001b[0;34m:\u001b[0m\u001b[0;34m(\u001b[0m\u001b[0mtp\u001b[0m\u001b[0;34m/\u001b[0m\u001b[0;34m(\u001b[0m\u001b[0mtp\u001b[0m\u001b[0;34m+\u001b[0m\u001b[0mfn\u001b[0m\u001b[0;34m)\u001b[0m\u001b[0;34m)\u001b[0m\u001b[0;34m,\u001b[0m\u001b[0;34m'Specificity'\u001b[0m\u001b[0;34m:\u001b[0m\u001b[0;34m(\u001b[0m\u001b[0mtn\u001b[0m\u001b[0;34m/\u001b[0m\u001b[0;34m(\u001b[0m\u001b[0mtn\u001b[0m\u001b[0;34m+\u001b[0m\u001b[0mfp\u001b[0m\u001b[0;34m)\u001b[0m\u001b[0;34m)\u001b[0m\u001b[0;34m,\u001b[0m\u001b[0;34m'F1'\u001b[0m\u001b[0;34m:\u001b[0m\u001b[0;34m(\u001b[0m\u001b[0;36m2\u001b[0m\u001b[0;34m*\u001b[0m\u001b[0;34m(\u001b[0m\u001b[0mtp\u001b[0m\u001b[0;34m/\u001b[0m\u001b[0;34m(\u001b[0m\u001b[0mtp\u001b[0m\u001b[0;34m+\u001b[0m\u001b[0mfp\u001b[0m\u001b[0;34m)\u001b[0m\u001b[0;34m)\u001b[0m\u001b[0;34m*\u001b[0m\u001b[0;34m(\u001b[0m\u001b[0mtp\u001b[0m\u001b[0;34m/\u001b[0m\u001b[0;34m(\u001b[0m\u001b[0mtp\u001b[0m\u001b[0;34m+\u001b[0m\u001b[0mfn\u001b[0m\u001b[0;34m)\u001b[0m\u001b[0;34m)\u001b[0m\u001b[0;34m)\u001b[0m\u001b[0;34m/\u001b[0m\u001b[0;34m(\u001b[0m\u001b[0;34m(\u001b[0m\u001b[0mtp\u001b[0m\u001b[0;34m/\u001b[0m\u001b[0;34m(\u001b[0m\u001b[0mtp\u001b[0m\u001b[0;34m+\u001b[0m\u001b[0mfp\u001b[0m\u001b[0;34m)\u001b[0m\u001b[0;34m)\u001b[0m\u001b[0;34m+\u001b[0m\u001b[0;34m(\u001b[0m\u001b[0mtp\u001b[0m\u001b[0;34m/\u001b[0m\u001b[0;34m(\u001b[0m\u001b[0mtp\u001b[0m\u001b[0;34m+\u001b[0m\u001b[0mfn\u001b[0m\u001b[0;34m)\u001b[0m\u001b[0;34m)\u001b[0m\u001b[0;34m)\u001b[0m\u001b[0;34m}\u001b[0m\u001b[0;34m\u001b[0m\u001b[0;34m\u001b[0m\u001b[0m\n\u001b[0m\u001b[1;32m     28\u001b[0m     \u001b[0;32mreturn\u001b[0m \u001b[0;34m(\u001b[0m\u001b[0mmetrics\u001b[0m\u001b[0;34m)\u001b[0m\u001b[0;34m\u001b[0m\u001b[0;34m\u001b[0m\u001b[0m\n",
            "\u001b[0;31mZeroDivisionError\u001b[0m: division by zero"
          ]
        }
      ]
    },
    {
      "cell_type": "markdown",
      "metadata": {
        "id": "zOF-ym1eujTK"
      },
      "source": [
        "# Neural Network"
      ]
    },
    {
      "cell_type": "code",
      "metadata": {
        "id": "OWcj4hIwup4I",
        "outputId": "98b8e39c-b396-4bda-cb68-d333b068d939",
        "colab": {
          "base_uri": "https://localhost:8080/",
          "height": 106
        }
      },
      "source": [
        "clf = MLPClassifier(solver='lbfgs', alpha=1e-5,hidden_layer_sizes=(5, 2), random_state=1)\n",
        "clf.fit(train_x, train_y)\n",
        "preds=clf.predict(test_x)\n",
        "NN = accuracy(test_y.tolist(), preds.tolist())\n",
        "NNM = metrics(test_y.tolist(), preds.tolist())\n",
        "print('accuracy:',NN, '%')\n",
        "print(metrics(test_y.tolist(), preds.tolist()))\n"
      ],
      "execution_count": null,
      "outputs": [
        {
          "output_type": "stream",
          "text": [
            "30 1 0 9\n",
            "accuracy: 77.5 %\n",
            "30 1 0 9\n",
            "{'Precision': 1.0, 'Sensitivity': 0.7692307692307693, 'Specificity': 1.0, 'F1': 0.8695652173913044}\n"
          ],
          "name": "stdout"
        }
      ]
    },
    {
      "cell_type": "markdown",
      "metadata": {
        "id": "8znIKt9SXCNm"
      },
      "source": [
        "# Voting"
      ]
    },
    {
      "cell_type": "code",
      "metadata": {
        "id": "WiDoUWclXEJH"
      },
      "source": [
        "eclf1 = VotingClassifier(estimators=[('rf', clf1), ('ab', clf2), ('dt', clf3)], voting='hard')\n",
        "eclf1.fit(train_x, train_y)\n",
        "preds=eclf1.predict(test_x)\n",
        "v = accuracy(test_y.tolist(), preds.tolist())\n",
        "vm = metrics(test_y.tolist(), preds.tolist())\n",
        "print(vm['Precision'])\n",
        "print('accuracy:',v, '%')\n",
        "print(metrics(test_y.tolist(), preds.tolist()))"
      ],
      "execution_count": null,
      "outputs": []
    },
    {
      "cell_type": "markdown",
      "metadata": {
        "id": "yQtcFqdRbvkm"
      },
      "source": [
        "# Making file"
      ]
    },
    {
      "cell_type": "code",
      "metadata": {
        "id": "AcZP7ZZHbzlz"
      },
      "source": [
        "f = open('/content/drive/My Drive/bradykinesia.txt', 'w')\n",
        "f.write(\"Algorithms \\t Accuracy \\t \")"
      ],
      "execution_count": null,
      "outputs": []
    },
    {
      "cell_type": "code",
      "metadata": {
        "id": "ZxaplcorcyUK",
        "outputId": "1084e108-1945-4349-a7e3-d2748803b180",
        "colab": {
          "base_uri": "https://localhost:8080/",
          "height": 69
        }
      },
      "source": [
        "# columns = ['Algorithms', 'Accuracy', 'Sensitivity', 'Specificity']\n",
        "\n",
        "# alg_df = pd.DataFrame(columns=columns) # empty Data Frame for now\n",
        "\n",
        "acc = [LR, RF, SVM, KN, AB, DT, SGD, NN]\n",
        "sens = [LRM['Sensitivity'], RFM['Sensitivity'], SVMM['Sensitivity'], KNM['Sensitivity'], ABM['Sensitivity'], DTM['Sensitivity'], SGDM['Sensitivity'], NNM['Sensitivity']]\n",
        "spec = [LRM['Specificity'], RFM['Specificity'], SVMM['Specificity'], KNM['Specificity'], ABM['Specificity'], DTM['Specificity'], SGDM['Specificity'], NNM['Specificity']]\n",
        "print(acc)\n",
        "print(sens)\n",
        "print(spec)"
      ],
      "execution_count": null,
      "outputs": [
        {
          "output_type": "stream",
          "text": [
            "[72.5, 97.5, 75.0, 75.0, 95.0, 92.5, 75.0, 72.5]\n",
            "[0.7567567567567568, 1.0, 0.75, 0.7631578947368421, 1.0, 1.0, 0.75, 0.7435897435897436]\n",
            "[0.1, 1.0, 0.0, 0.1, 1.0, 1.0, 0.0, 0.0]\n"
          ],
          "name": "stdout"
        }
      ]
    },
    {
      "cell_type": "markdown",
      "metadata": {
        "id": "JVYIeUk-yQp6"
      },
      "source": [
        "# Plotting graph for algorithms"
      ]
    },
    {
      "cell_type": "code",
      "metadata": {
        "id": "kbl8gDZFyXK4",
        "outputId": "92be60aa-c4e3-4067-b704-ec736a490b47",
        "colab": {
          "base_uri": "https://localhost:8080/",
          "height": 283
        }
      },
      "source": [
        "\n",
        "import matplotlib.pyplot as plt\n",
        "import matplotlib as mpl\n",
        "\n",
        "\n",
        "COLOR = 'white'\n",
        "mpl.rcParams['text.color'] = COLOR\n",
        "mpl.rcParams['axes.labelcolor'] = COLOR\n",
        "mpl.rcParams['xtick.color'] = COLOR\n",
        "mpl.rcParams['ytick.color'] = COLOR\n",
        "\n",
        "fig, ax = plt.subplots(facecolor='#095481')\n",
        "# x-coordinates of left sides of bars\n",
        "left = [1, 2, 3, 4, 5, 6, 7, 8]\n",
        "\n",
        "# heights of bars\n",
        "height = [LR, RF, SVM, KN, AB, DT, SGD, NN]\n",
        "\n",
        "# labels for bars\n",
        "tick_label = ['LR', 'RF', 'SV', 'KN', 'AB', 'DT', 'SGD', 'NN']\n",
        "\n",
        "# plotting a bar chart\n",
        "plt.bar(left, height, tick_label = tick_label,\n",
        "        width = 0.2, color = ['white'])\n",
        "\n",
        "# naming the x-axis\n",
        "plt.xlabel('methods')\n",
        "# naming the y-axis\n",
        "plt.ylabel('accuracy')\n",
        "# plot title\n",
        "\n",
        "# for i, v in enumerate(height):\n",
        "#     plt.text(left[i] - 0.30, v + 0.5, str(v))\n",
        "# for i, v in enumerate(height):\n",
        "#     plt.text(left[i] - 0.30, v + 0.5, str(v))\n",
        "\n",
        "ax.set_facecolor(\"#095481\")\n",
        "ax.spines['bottom'].set_color('white')\n",
        "ax.spines['top'].set_color('white')\n",
        "ax.spines['left'].set_color('white')\n",
        "ax.spines['right'].set_color('white')\n",
        "\n",
        "\n",
        "ax.set_clip_on(False)\n",
        "# function to show the plot\n",
        "plt.show()\n"
      ],
      "execution_count": null,
      "outputs": [
        {
          "output_type": "display_data",
          "data": {
            "image/png": "[encoded data removed]",
            "text/plain": [
              "<Figure size 432x288 with 1 Axes>"
            ]
          },
          "metadata": {
            "tags": []
          }
        }
      ]
    },
    {
      "cell_type": "code",
      "metadata": {
        "id": "LZNsAee2aCCj",
        "outputId": "abbbdf3a-2f81-4c06-a2b6-bfce1f00a128",
        "colab": {
          "base_uri": "https://localhost:8080/",
          "height": 1000
        }
      },
      "source": [
        "f, ax = plt.subplots(3, 3, figsize=(10, 5))\n",
        "#f.tight_layout()\n",
        "plt.subplots_adjust(\n",
        "    #left  = 0.5,\n",
        "    right = 3,\n",
        "    #bottom = 0.5,\n",
        "    top = 3,\n",
        ")\n",
        "\n",
        "for i in range(9):\n",
        "    temp_columns = column_names[3 * i : 3 * i + 3]\n",
        "    stacked_df = combined_user_df[temp_columns].stack().reset_index()\n",
        "\n",
        "    stacked_df = stacked_df.rename(columns={'level_0': 'index', 'level_1': 'Type', 0: 'Time'})\n",
        "    stacked_df = stacked_df.set_index('index')\n",
        "\n",
        "    for index in stacked_df.index:\n",
        "        stacked_df.loc[index, 'Parkinsons'] = combined_user_df.loc[index, 'Parkinsons']\n",
        "\n",
        "    sns.boxplot(x='Type', y='Time', hue='Parkinsons', data=stacked_df, ax=ax[i // 3][i % 3]).set_title(column_names[i * 3][: 2], fontsize=20)\n",
        "\n",
        "plt.show()"
      ],
      "execution_count": null,
      "outputs": [
        {
          "output_type": "display_data",
          "data": {
            "image/png": "[encoded data removed]",
            "text/plain": [
              "<Figure size 720x360 with 9 Axes>"
            ]
          },
          "metadata": {
            "tags": []
          }
        }
      ]
    },
    {
      "cell_type": "code",
      "metadata": {
        "id": "R3NnIaF0aJsU"
      },
      "source": [],
      "execution_count": null,
      "outputs": []
    },
    {
      "cell_type": "code",
      "metadata": {
        "id": "TvWPVcF7PKxC",
        "outputId": "923fbcef-73a2-4124-aa6b-e989a54ce6fa",
        "colab": {
          "base_uri": "https://localhost:8080/",
          "height": 124
        }
      },
      "source": [
        "from google.colab import drive\n",
        "drive.mount('/content/drive')"
      ],
      "execution_count": null,
      "outputs": [
        {
          "output_type": "stream",
          "text": [
            "Go to this URL in a browser: https://accounts.google.com/o/oauth2/auth?client_id=947318989803-6bn6qk8qdgf4n4g3pfee6491hc0brc4i.apps.googleusercontent.com&redirect_uri=urn%3aietf%3awg%3aoauth%3a2.0%3aoob&response_type=code&scope=email%20https%3a%2f%2fwww.googleapis.com%2fauth%2fdocs.test%20https%3a%2f%2fwww.googleapis.com%2fauth%2fdrive%20https%3a%2f%2fwww.googleapis.com%2fauth%2fdrive.photos.readonly%20https%3a%2f%2fwww.googleapis.com%2fauth%2fpeopleapi.readonly\n",
            "\n",
            "Enter your authorization code:\n",
            "··········\n",
            "Mounted at /content/drive\n"
          ],
          "name": "stdout"
        }
      ]
    }
  ]
}